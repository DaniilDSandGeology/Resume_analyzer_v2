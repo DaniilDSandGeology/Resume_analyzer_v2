{
  "cells": [
    {
      "cell_type": "markdown",
      "id": "42289889-bd57-434e-9637-d3e354756316",
      "metadata": {
        "id": "42289889-bd57-434e-9637-d3e354756316"
      },
      "source": [
        "<center> <img src = https://raw.githubusercontent.com/AndreyRysistov/DatasetsForPandas/main/hh%20label.jpg alt=\"drawing\" style=\"width:400px;\">"
      ]
    },
    {
      "cell_type": "markdown",
      "id": "829cb75b-f14e-4ba8-9195-7ba929a7d656",
      "metadata": {
        "id": "829cb75b-f14e-4ba8-9195-7ba929a7d656",
        "tags": []
      },
      "source": [
        "# <center> Проект: Анализ вакансий из HeadHunter\n",
        "   "
      ]
    },
    {
      "cell_type": "code",
      "execution_count": 197,
      "id": "dccfde33-2452-43fb-a8a5-5c6ebc02a71d",
      "metadata": {
        "id": "dccfde33-2452-43fb-a8a5-5c6ebc02a71d"
      },
      "outputs": [],
      "source": [
        "import pandas as pd\n",
        "import psycopg2\n",
        "import plotly.express as px\n",
        "\n",
        "import warnings\n",
        "warnings.filterwarnings(\"ignore\")"
      ]
    },
    {
      "cell_type": "code",
      "execution_count": 198,
      "id": "oVKH4ehvf8Ay",
      "metadata": {
        "id": "oVKH4ehvf8Ay"
      },
      "outputs": [],
      "source": [
        "DBNAME = 'project_sql'\n",
        "USER = 'skillfactory'\n",
        "PASSWORD = 'cCkxxLVrDE8EbvjueeMedPKt'\n",
        "HOST = '84.201.134.129'\n",
        "PORT = 5432"
      ]
    },
    {
      "cell_type": "code",
      "execution_count": 199,
      "id": "G4X_q8KBf7SF",
      "metadata": {
        "id": "G4X_q8KBf7SF"
      },
      "outputs": [],
      "source": [
        "import os\n",
        "from dotenv import load_dotenv\n",
        "\n",
        "load_dotenv()\n",
        "DBNAME = os.getenv(\"DBNAME\")\n",
        "USER = os.getenv(\"USER\")\n",
        "PASSWORD = os.getenv(\"PASSWORD\")\n",
        "HOST = os.getenv(\"HOST\")\n",
        "PORT = os.getenv(\"PORT\")"
      ]
    },
    {
      "cell_type": "code",
      "execution_count": null,
      "id": "353edd80",
      "metadata": {},
      "outputs": [],
      "source": [
        "connection = psycopg2.connect(\n",
        "    dbname=DBNAME,\n",
        "    user=USER,\n",
        "    host=HOST,\n",
        "    password=PASSWORD,\n",
        "    port=PORT\n",
        ")"
      ]
    },
    {
      "cell_type": "markdown",
      "id": "0dc6476b-7a00-44f1-ac93-6e3baed33a29",
      "metadata": {
        "id": "0dc6476b-7a00-44f1-ac93-6e3baed33a29"
      },
      "source": [
        "# Юнит 3. Предварительный анализ данных"
      ]
    },
    {
      "cell_type": "markdown",
      "id": "889782b6-8d1c-410e-8920-e57f27917c64",
      "metadata": {
        "id": "889782b6-8d1c-410e-8920-e57f27917c64"
      },
      "source": [
        "1. Напишите запрос, который посчитает количество вакансий в нашей базе (вакансии находятся в таблице vacancies). "
      ]
    },
    {
      "cell_type": "code",
      "execution_count": 201,
      "id": "bc39e68e-ed02-4ee2-9235-7258a2f867a8",
      "metadata": {
        "id": "bc39e68e-ed02-4ee2-9235-7258a2f867a8"
      },
      "outputs": [],
      "source": [
        "# текст запроса\n",
        "query_3_1 = f'''select count(id)\n",
        "                from vacancies\n",
        "                \n",
        "'''"
      ]
    },
    {
      "cell_type": "code",
      "execution_count": 202,
      "id": "7mAwtsk4hEHY",
      "metadata": {
        "id": "7mAwtsk4hEHY"
      },
      "outputs": [
        {
          "data": {
            "text/html": [
              "<div>\n",
              "<style scoped>\n",
              "    .dataframe tbody tr th:only-of-type {\n",
              "        vertical-align: middle;\n",
              "    }\n",
              "\n",
              "    .dataframe tbody tr th {\n",
              "        vertical-align: top;\n",
              "    }\n",
              "\n",
              "    .dataframe thead th {\n",
              "        text-align: right;\n",
              "    }\n",
              "</style>\n",
              "<table border=\"1\" class=\"dataframe\">\n",
              "  <thead>\n",
              "    <tr style=\"text-align: right;\">\n",
              "      <th></th>\n",
              "      <th>count</th>\n",
              "    </tr>\n",
              "  </thead>\n",
              "  <tbody>\n",
              "    <tr>\n",
              "      <th>0</th>\n",
              "      <td>49197</td>\n",
              "    </tr>\n",
              "  </tbody>\n",
              "</table>\n",
              "</div>"
            ],
            "text/plain": [
              "   count\n",
              "0  49197"
            ]
          },
          "execution_count": 202,
          "metadata": {},
          "output_type": "execute_result"
        }
      ],
      "source": [
        "# результат запроса\n",
        "df_3_1 = pd.read_sql_query(query_3_1, connection)\n",
        "df_3_1"
      ]
    },
    {
      "cell_type": "markdown",
      "id": "b583485d-1f9e-494e-ada4-80ffff7c53d6",
      "metadata": {
        "id": "b583485d-1f9e-494e-ada4-80ffff7c53d6"
      },
      "source": [
        "2. Напишите запрос, который посчитает количество работодателей (таблица employers). "
      ]
    },
    {
      "cell_type": "code",
      "execution_count": 203,
      "id": "5408c52c-3407-4a63-b25b-1aafa2322d28",
      "metadata": {
        "id": "5408c52c-3407-4a63-b25b-1aafa2322d28"
      },
      "outputs": [],
      "source": [
        "# текст запроса\n",
        "query_3_2 = f'''select count(id)\n",
        "                from employers                \n",
        "'''"
      ]
    },
    {
      "cell_type": "code",
      "execution_count": 204,
      "id": "jVL4eshKhdqc",
      "metadata": {
        "id": "jVL4eshKhdqc"
      },
      "outputs": [
        {
          "data": {
            "text/html": [
              "<div>\n",
              "<style scoped>\n",
              "    .dataframe tbody tr th:only-of-type {\n",
              "        vertical-align: middle;\n",
              "    }\n",
              "\n",
              "    .dataframe tbody tr th {\n",
              "        vertical-align: top;\n",
              "    }\n",
              "\n",
              "    .dataframe thead th {\n",
              "        text-align: right;\n",
              "    }\n",
              "</style>\n",
              "<table border=\"1\" class=\"dataframe\">\n",
              "  <thead>\n",
              "    <tr style=\"text-align: right;\">\n",
              "      <th></th>\n",
              "      <th>count</th>\n",
              "    </tr>\n",
              "  </thead>\n",
              "  <tbody>\n",
              "    <tr>\n",
              "      <th>0</th>\n",
              "      <td>23501</td>\n",
              "    </tr>\n",
              "  </tbody>\n",
              "</table>\n",
              "</div>"
            ],
            "text/plain": [
              "   count\n",
              "0  23501"
            ]
          },
          "execution_count": 204,
          "metadata": {},
          "output_type": "execute_result"
        }
      ],
      "source": [
        "# результат запроса\n",
        "df_3_2 = pd.read_sql_query(query_3_2, connection)\n",
        "df_3_2"
      ]
    },
    {
      "cell_type": "markdown",
      "id": "a2bfff1f-c975-4bf6-84be-2185d79dcb76",
      "metadata": {
        "id": "a2bfff1f-c975-4bf6-84be-2185d79dcb76"
      },
      "source": [
        "3. Посчитате с помощью запроса количество регионов (таблица areas)."
      ]
    },
    {
      "cell_type": "code",
      "execution_count": 205,
      "id": "1m8QJwBYhey6",
      "metadata": {
        "id": "1m8QJwBYhey6"
      },
      "outputs": [],
      "source": [
        "# текст запроса\n",
        "query_3_3 = f'''select count(id)\n",
        "                from areas               \n",
        "'''"
      ]
    },
    {
      "cell_type": "code",
      "execution_count": 206,
      "id": "EZsn9tlfhe7f",
      "metadata": {
        "id": "EZsn9tlfhe7f"
      },
      "outputs": [
        {
          "data": {
            "text/html": [
              "<div>\n",
              "<style scoped>\n",
              "    .dataframe tbody tr th:only-of-type {\n",
              "        vertical-align: middle;\n",
              "    }\n",
              "\n",
              "    .dataframe tbody tr th {\n",
              "        vertical-align: top;\n",
              "    }\n",
              "\n",
              "    .dataframe thead th {\n",
              "        text-align: right;\n",
              "    }\n",
              "</style>\n",
              "<table border=\"1\" class=\"dataframe\">\n",
              "  <thead>\n",
              "    <tr style=\"text-align: right;\">\n",
              "      <th></th>\n",
              "      <th>count</th>\n",
              "    </tr>\n",
              "  </thead>\n",
              "  <tbody>\n",
              "    <tr>\n",
              "      <th>0</th>\n",
              "      <td>1362</td>\n",
              "    </tr>\n",
              "  </tbody>\n",
              "</table>\n",
              "</div>"
            ],
            "text/plain": [
              "   count\n",
              "0   1362"
            ]
          },
          "execution_count": 206,
          "metadata": {},
          "output_type": "execute_result"
        }
      ],
      "source": [
        "# результат запроса\n",
        "df_3_3 = pd.read_sql_query(query_3_3, connection)\n",
        "df_3_3"
      ]
    },
    {
      "cell_type": "markdown",
      "id": "41bb59f3-53cc-4a67-a5bc-bedf573955e4",
      "metadata": {
        "id": "41bb59f3-53cc-4a67-a5bc-bedf573955e4"
      },
      "source": [
        "4. Посчитате с помощью запроса количество сфер деятельности в базе (таблица industries)."
      ]
    },
    {
      "cell_type": "code",
      "execution_count": 207,
      "id": "d286cf4c-707b-4cd2-9190-7ab3587d04a1",
      "metadata": {
        "id": "d286cf4c-707b-4cd2-9190-7ab3587d04a1"
      },
      "outputs": [],
      "source": [
        "# текст запроса\n",
        "query_3_4 = f'''select count(id)\n",
        "                from industries             \n",
        "'''"
      ]
    },
    {
      "cell_type": "code",
      "execution_count": 208,
      "id": "JYAaoZ4qhfzW",
      "metadata": {
        "id": "JYAaoZ4qhfzW"
      },
      "outputs": [
        {
          "data": {
            "text/html": [
              "<div>\n",
              "<style scoped>\n",
              "    .dataframe tbody tr th:only-of-type {\n",
              "        vertical-align: middle;\n",
              "    }\n",
              "\n",
              "    .dataframe tbody tr th {\n",
              "        vertical-align: top;\n",
              "    }\n",
              "\n",
              "    .dataframe thead th {\n",
              "        text-align: right;\n",
              "    }\n",
              "</style>\n",
              "<table border=\"1\" class=\"dataframe\">\n",
              "  <thead>\n",
              "    <tr style=\"text-align: right;\">\n",
              "      <th></th>\n",
              "      <th>count</th>\n",
              "    </tr>\n",
              "  </thead>\n",
              "  <tbody>\n",
              "    <tr>\n",
              "      <th>0</th>\n",
              "      <td>294</td>\n",
              "    </tr>\n",
              "  </tbody>\n",
              "</table>\n",
              "</div>"
            ],
            "text/plain": [
              "   count\n",
              "0    294"
            ]
          },
          "execution_count": 208,
          "metadata": {},
          "output_type": "execute_result"
        }
      ],
      "source": [
        "# результат запроса\n",
        "df_3_4 = pd.read_sql_query(query_3_4, connection)\n",
        "df_3_4"
      ]
    },
    {
      "cell_type": "markdown",
      "id": "9a8a2181-6914-448b-85f1-38f5f18b8a93",
      "metadata": {
        "id": "9a8a2181-6914-448b-85f1-38f5f18b8a93"
      },
      "source": [
        "***"
      ]
    },
    {
      "cell_type": "markdown",
      "id": "be4e9bd3-a4db-4a20-82fb-6b02fc2957e0",
      "metadata": {
        "id": "be4e9bd3-a4db-4a20-82fb-6b02fc2957e0"
      },
      "source": [
        "В предоставленных данных имеется информация о 49197 вакансий, что относительно мало для локации с населением более 100 млн человек. Также имеется информация о 23501 работодателей, в среднем на каждого работодателя около 2 вакансий. Скорее всего большинство работодателей имеют минимальную активность на платформе, а большая часть откликов приходится на топ наиболее популярных компаний. Кандидаты находятся в 1362 регионах, что говорит о широком охвате географии. Работодатели в базе представлены в 294 сферах деятельности. \n",
        "В целом по предварительной оценке можно сказать, что данные широко охватывают рынок труда, но количество вакансий не соответствует разнообразию данных. Связано это, скорее всего, с ограничением по размеру датасета."
      ]
    },
    {
      "cell_type": "markdown",
      "id": "8d62a9f3-f64e-4fe7-bdac-c4dffa16155e",
      "metadata": {
        "id": "8d62a9f3-f64e-4fe7-bdac-c4dffa16155e"
      },
      "source": [
        "# Юнит 4. Детальный анализ вакансий"
      ]
    },
    {
      "cell_type": "markdown",
      "id": "93053d3d-b284-481a-9cf7-012d7014c0e0",
      "metadata": {
        "id": "93053d3d-b284-481a-9cf7-012d7014c0e0"
      },
      "source": [
        "1. Напишите запрос, который позволит узнать, сколько (cnt) вакансий в каждом регионе (area).\n",
        "Отсортируйте по количеству вакансий в порядке убывания."
      ]
    },
    {
      "cell_type": "code",
      "execution_count": 209,
      "id": "3f069da6-fdc9-4ae7-b514-fafe2675efd3",
      "metadata": {
        "id": "3f069da6-fdc9-4ae7-b514-fafe2675efd3"
      },
      "outputs": [],
      "source": [
        "# текст запроса\n",
        "query_4_1 = f'''select a.name, count(v.id) as cnt\n",
        "                from vacancies as v\n",
        "                inner join areas as a on v.area_id = a.id\n",
        "                group by a.name\n",
        "                order by count(v.id) desc              \n",
        "'''"
      ]
    },
    {
      "cell_type": "code",
      "execution_count": 210,
      "id": "P7QL86hrjhRJ",
      "metadata": {
        "id": "P7QL86hrjhRJ"
      },
      "outputs": [
        {
          "data": {
            "text/html": [
              "<div>\n",
              "<style scoped>\n",
              "    .dataframe tbody tr th:only-of-type {\n",
              "        vertical-align: middle;\n",
              "    }\n",
              "\n",
              "    .dataframe tbody tr th {\n",
              "        vertical-align: top;\n",
              "    }\n",
              "\n",
              "    .dataframe thead th {\n",
              "        text-align: right;\n",
              "    }\n",
              "</style>\n",
              "<table border=\"1\" class=\"dataframe\">\n",
              "  <thead>\n",
              "    <tr style=\"text-align: right;\">\n",
              "      <th></th>\n",
              "      <th>name</th>\n",
              "      <th>cnt</th>\n",
              "    </tr>\n",
              "  </thead>\n",
              "  <tbody>\n",
              "    <tr>\n",
              "      <th>0</th>\n",
              "      <td>Москва</td>\n",
              "      <td>5333</td>\n",
              "    </tr>\n",
              "    <tr>\n",
              "      <th>1</th>\n",
              "      <td>Санкт-Петербург</td>\n",
              "      <td>2851</td>\n",
              "    </tr>\n",
              "    <tr>\n",
              "      <th>2</th>\n",
              "      <td>Минск</td>\n",
              "      <td>2112</td>\n",
              "    </tr>\n",
              "    <tr>\n",
              "      <th>3</th>\n",
              "      <td>Новосибирск</td>\n",
              "      <td>2006</td>\n",
              "    </tr>\n",
              "    <tr>\n",
              "      <th>4</th>\n",
              "      <td>Алматы</td>\n",
              "      <td>1892</td>\n",
              "    </tr>\n",
              "  </tbody>\n",
              "</table>\n",
              "</div>"
            ],
            "text/plain": [
              "              name   cnt\n",
              "0           Москва  5333\n",
              "1  Санкт-Петербург  2851\n",
              "2            Минск  2112\n",
              "3      Новосибирск  2006\n",
              "4           Алматы  1892"
            ]
          },
          "execution_count": 210,
          "metadata": {},
          "output_type": "execute_result"
        }
      ],
      "source": [
        "# результат запроса\n",
        "df_4_1 = pd.read_sql_query(query_4_1, connection)\n",
        "df_4_1.head()"
      ]
    },
    {
      "cell_type": "markdown",
      "id": "4266f0b6-1646-492a-88b4-2f6a46502135",
      "metadata": {
        "id": "4266f0b6-1646-492a-88b4-2f6a46502135"
      },
      "source": [
        "2. Напишите запрос, чтобы определить у какого количества вакансий заполнено хотя бы одно из двух полей с зарплатой."
      ]
    },
    {
      "cell_type": "code",
      "execution_count": 211,
      "id": "0c44b350-72eb-4d65-8b54-a1fc449ba9fd",
      "metadata": {
        "id": "0c44b350-72eb-4d65-8b54-a1fc449ba9fd"
      },
      "outputs": [],
      "source": [
        "# текст запроса\n",
        "query_4_2 = f'''select count(id) as cnt\n",
        "                from vacancies as v    \n",
        "                where v.salary_from is not null  or  v.salary_to is not null        \n",
        "'''"
      ]
    },
    {
      "cell_type": "code",
      "execution_count": 212,
      "id": "rhvwaMDkoWTi",
      "metadata": {
        "id": "rhvwaMDkoWTi"
      },
      "outputs": [
        {
          "data": {
            "text/html": [
              "<div>\n",
              "<style scoped>\n",
              "    .dataframe tbody tr th:only-of-type {\n",
              "        vertical-align: middle;\n",
              "    }\n",
              "\n",
              "    .dataframe tbody tr th {\n",
              "        vertical-align: top;\n",
              "    }\n",
              "\n",
              "    .dataframe thead th {\n",
              "        text-align: right;\n",
              "    }\n",
              "</style>\n",
              "<table border=\"1\" class=\"dataframe\">\n",
              "  <thead>\n",
              "    <tr style=\"text-align: right;\">\n",
              "      <th></th>\n",
              "      <th>cnt</th>\n",
              "    </tr>\n",
              "  </thead>\n",
              "  <tbody>\n",
              "    <tr>\n",
              "      <th>0</th>\n",
              "      <td>24073</td>\n",
              "    </tr>\n",
              "  </tbody>\n",
              "</table>\n",
              "</div>"
            ],
            "text/plain": [
              "     cnt\n",
              "0  24073"
            ]
          },
          "execution_count": 212,
          "metadata": {},
          "output_type": "execute_result"
        }
      ],
      "source": [
        "# результат запроса\n",
        "df_4_2 = pd.read_sql_query(query_4_2, connection)\n",
        "df_4_2.head()"
      ]
    },
    {
      "cell_type": "markdown",
      "id": "635c4d5d-f323-4c66-b428-50a088120aa0",
      "metadata": {
        "id": "635c4d5d-f323-4c66-b428-50a088120aa0"
      },
      "source": [
        "3. Найдите средние значения для нижней и верхней границы зарплатной вилки. Округлите значения до целого."
      ]
    },
    {
      "cell_type": "code",
      "execution_count": 213,
      "id": "603cdbe4-0ec3-4106-8eaf-c73fcdd29165",
      "metadata": {
        "id": "603cdbe4-0ec3-4106-8eaf-c73fcdd29165"
      },
      "outputs": [],
      "source": [
        "# текст запроса\n",
        "query_4_3 = f'''select avg(v.salary_from), avg(v.salary_to)\n",
        "                from vacancies as v    \n",
        "                where v.salary_from is not null  or  v.salary_to is not null        \n",
        "'''"
      ]
    },
    {
      "cell_type": "code",
      "execution_count": 214,
      "id": "pswpAb66ovZZ",
      "metadata": {
        "id": "pswpAb66ovZZ"
      },
      "outputs": [
        {
          "data": {
            "text/html": [
              "<div>\n",
              "<style scoped>\n",
              "    .dataframe tbody tr th:only-of-type {\n",
              "        vertical-align: middle;\n",
              "    }\n",
              "\n",
              "    .dataframe tbody tr th {\n",
              "        vertical-align: top;\n",
              "    }\n",
              "\n",
              "    .dataframe thead th {\n",
              "        text-align: right;\n",
              "    }\n",
              "</style>\n",
              "<table border=\"1\" class=\"dataframe\">\n",
              "  <thead>\n",
              "    <tr style=\"text-align: right;\">\n",
              "      <th></th>\n",
              "      <th>avg</th>\n",
              "      <th>avg</th>\n",
              "    </tr>\n",
              "  </thead>\n",
              "  <tbody>\n",
              "    <tr>\n",
              "      <th>0</th>\n",
              "      <td>71064.657901</td>\n",
              "      <td>110536.741923</td>\n",
              "    </tr>\n",
              "  </tbody>\n",
              "</table>\n",
              "</div>"
            ],
            "text/plain": [
              "            avg            avg\n",
              "0  71064.657901  110536.741923"
            ]
          },
          "execution_count": 214,
          "metadata": {},
          "output_type": "execute_result"
        }
      ],
      "source": [
        "# результат запроса\n",
        "df_4_3 = pd.read_sql_query(query_4_3, connection)\n",
        "df_4_3.head()"
      ]
    },
    {
      "cell_type": "markdown",
      "id": "f3fdaec9-5fd3-4260-9cf5-1d7406b628a5",
      "metadata": {
        "id": "f3fdaec9-5fd3-4260-9cf5-1d7406b628a5"
      },
      "source": [
        "4. Напишите запрос, который выведет количество вакансий для каждого сочетания типа рабочего графика (schedule) и типа трудоустройства (employment), используемого в вакансиях. Результат отсортируйте по убыванию количества.\n"
      ]
    },
    {
      "cell_type": "code",
      "execution_count": 215,
      "id": "1ea710ec-871b-431e-9462-c7d0fd87011b",
      "metadata": {
        "id": "1ea710ec-871b-431e-9462-c7d0fd87011b"
      },
      "outputs": [],
      "source": [
        "# текст запроса\n",
        "query_4_4 = f'''select v.schedule, v.employment, count(id) as cnt\n",
        "                from vacancies as v    \n",
        "                group by v.schedule, v.employment \n",
        "                order by cnt desc\n",
        "'''"
      ]
    },
    {
      "cell_type": "code",
      "execution_count": 216,
      "id": "lGUVqavdo4JQ",
      "metadata": {
        "id": "lGUVqavdo4JQ"
      },
      "outputs": [
        {
          "data": {
            "text/html": [
              "<div>\n",
              "<style scoped>\n",
              "    .dataframe tbody tr th:only-of-type {\n",
              "        vertical-align: middle;\n",
              "    }\n",
              "\n",
              "    .dataframe tbody tr th {\n",
              "        vertical-align: top;\n",
              "    }\n",
              "\n",
              "    .dataframe thead th {\n",
              "        text-align: right;\n",
              "    }\n",
              "</style>\n",
              "<table border=\"1\" class=\"dataframe\">\n",
              "  <thead>\n",
              "    <tr style=\"text-align: right;\">\n",
              "      <th></th>\n",
              "      <th>schedule</th>\n",
              "      <th>employment</th>\n",
              "      <th>cnt</th>\n",
              "    </tr>\n",
              "  </thead>\n",
              "  <tbody>\n",
              "    <tr>\n",
              "      <th>0</th>\n",
              "      <td>Полный день</td>\n",
              "      <td>Полная занятость</td>\n",
              "      <td>35367</td>\n",
              "    </tr>\n",
              "    <tr>\n",
              "      <th>1</th>\n",
              "      <td>Удаленная работа</td>\n",
              "      <td>Полная занятость</td>\n",
              "      <td>7802</td>\n",
              "    </tr>\n",
              "    <tr>\n",
              "      <th>2</th>\n",
              "      <td>Гибкий график</td>\n",
              "      <td>Полная занятость</td>\n",
              "      <td>1593</td>\n",
              "    </tr>\n",
              "    <tr>\n",
              "      <th>3</th>\n",
              "      <td>Удаленная работа</td>\n",
              "      <td>Частичная занятость</td>\n",
              "      <td>1312</td>\n",
              "    </tr>\n",
              "    <tr>\n",
              "      <th>4</th>\n",
              "      <td>Сменный график</td>\n",
              "      <td>Полная занятость</td>\n",
              "      <td>940</td>\n",
              "    </tr>\n",
              "    <tr>\n",
              "      <th>5</th>\n",
              "      <td>Полный день</td>\n",
              "      <td>Стажировка</td>\n",
              "      <td>569</td>\n",
              "    </tr>\n",
              "    <tr>\n",
              "      <th>6</th>\n",
              "      <td>Вахтовый метод</td>\n",
              "      <td>Полная занятость</td>\n",
              "      <td>367</td>\n",
              "    </tr>\n",
              "    <tr>\n",
              "      <th>7</th>\n",
              "      <td>Полный день</td>\n",
              "      <td>Частичная занятость</td>\n",
              "      <td>347</td>\n",
              "    </tr>\n",
              "    <tr>\n",
              "      <th>8</th>\n",
              "      <td>Гибкий график</td>\n",
              "      <td>Частичная занятость</td>\n",
              "      <td>312</td>\n",
              "    </tr>\n",
              "    <tr>\n",
              "      <th>9</th>\n",
              "      <td>Полный день</td>\n",
              "      <td>Проектная работа</td>\n",
              "      <td>141</td>\n",
              "    </tr>\n",
              "    <tr>\n",
              "      <th>10</th>\n",
              "      <td>Удаленная работа</td>\n",
              "      <td>Проектная работа</td>\n",
              "      <td>133</td>\n",
              "    </tr>\n",
              "    <tr>\n",
              "      <th>11</th>\n",
              "      <td>Гибкий график</td>\n",
              "      <td>Стажировка</td>\n",
              "      <td>116</td>\n",
              "    </tr>\n",
              "    <tr>\n",
              "      <th>12</th>\n",
              "      <td>Сменный график</td>\n",
              "      <td>Частичная занятость</td>\n",
              "      <td>101</td>\n",
              "    </tr>\n",
              "    <tr>\n",
              "      <th>13</th>\n",
              "      <td>Удаленная работа</td>\n",
              "      <td>Стажировка</td>\n",
              "      <td>64</td>\n",
              "    </tr>\n",
              "    <tr>\n",
              "      <th>14</th>\n",
              "      <td>Гибкий график</td>\n",
              "      <td>Проектная работа</td>\n",
              "      <td>18</td>\n",
              "    </tr>\n",
              "    <tr>\n",
              "      <th>15</th>\n",
              "      <td>Сменный график</td>\n",
              "      <td>Стажировка</td>\n",
              "      <td>12</td>\n",
              "    </tr>\n",
              "    <tr>\n",
              "      <th>16</th>\n",
              "      <td>Вахтовый метод</td>\n",
              "      <td>Проектная работа</td>\n",
              "      <td>2</td>\n",
              "    </tr>\n",
              "    <tr>\n",
              "      <th>17</th>\n",
              "      <td>Сменный график</td>\n",
              "      <td>Проектная работа</td>\n",
              "      <td>1</td>\n",
              "    </tr>\n",
              "  </tbody>\n",
              "</table>\n",
              "</div>"
            ],
            "text/plain": [
              "            schedule           employment    cnt\n",
              "0        Полный день     Полная занятость  35367\n",
              "1   Удаленная работа     Полная занятость   7802\n",
              "2      Гибкий график     Полная занятость   1593\n",
              "3   Удаленная работа  Частичная занятость   1312\n",
              "4     Сменный график     Полная занятость    940\n",
              "5        Полный день           Стажировка    569\n",
              "6     Вахтовый метод     Полная занятость    367\n",
              "7        Полный день  Частичная занятость    347\n",
              "8      Гибкий график  Частичная занятость    312\n",
              "9        Полный день     Проектная работа    141\n",
              "10  Удаленная работа     Проектная работа    133\n",
              "11     Гибкий график           Стажировка    116\n",
              "12    Сменный график  Частичная занятость    101\n",
              "13  Удаленная работа           Стажировка     64\n",
              "14     Гибкий график     Проектная работа     18\n",
              "15    Сменный график           Стажировка     12\n",
              "16    Вахтовый метод     Проектная работа      2\n",
              "17    Сменный график     Проектная работа      1"
            ]
          },
          "execution_count": 216,
          "metadata": {},
          "output_type": "execute_result"
        }
      ],
      "source": [
        "# результат запроса\n",
        "df_4_4 = pd.read_sql_query(query_4_4, connection)\n",
        "df_4_4"
      ]
    },
    {
      "cell_type": "markdown",
      "id": "0136ffee-0ead-4a6b-b608-61d1c753a438",
      "metadata": {
        "id": "0136ffee-0ead-4a6b-b608-61d1c753a438"
      },
      "source": [
        "5. Напишите запрос, выводящий значения поля Требуемый опыт работы (experience) в порядке возрастания количества вакансий, в которых указан данный вариант опыта. "
      ]
    },
    {
      "cell_type": "code",
      "execution_count": 217,
      "id": "5b3a8e79-f7ab-4008-b767-12aea3a205ea",
      "metadata": {
        "id": "5b3a8e79-f7ab-4008-b767-12aea3a205ea"
      },
      "outputs": [],
      "source": [
        "# текст запроса\n",
        "query_4_5 = f'''select v.experience,  count(id) as cnt\n",
        "                from vacancies as v    \n",
        "                group by v.experience\n",
        "                order by cnt\n",
        "'''"
      ]
    },
    {
      "cell_type": "code",
      "execution_count": 218,
      "id": "3Is64Y-hpDpq",
      "metadata": {
        "id": "3Is64Y-hpDpq"
      },
      "outputs": [
        {
          "data": {
            "text/html": [
              "<div>\n",
              "<style scoped>\n",
              "    .dataframe tbody tr th:only-of-type {\n",
              "        vertical-align: middle;\n",
              "    }\n",
              "\n",
              "    .dataframe tbody tr th {\n",
              "        vertical-align: top;\n",
              "    }\n",
              "\n",
              "    .dataframe thead th {\n",
              "        text-align: right;\n",
              "    }\n",
              "</style>\n",
              "<table border=\"1\" class=\"dataframe\">\n",
              "  <thead>\n",
              "    <tr style=\"text-align: right;\">\n",
              "      <th></th>\n",
              "      <th>experience</th>\n",
              "      <th>cnt</th>\n",
              "    </tr>\n",
              "  </thead>\n",
              "  <tbody>\n",
              "    <tr>\n",
              "      <th>0</th>\n",
              "      <td>Более 6 лет</td>\n",
              "      <td>1337</td>\n",
              "    </tr>\n",
              "    <tr>\n",
              "      <th>1</th>\n",
              "      <td>Нет опыта</td>\n",
              "      <td>7197</td>\n",
              "    </tr>\n",
              "    <tr>\n",
              "      <th>2</th>\n",
              "      <td>От 3 до 6 лет</td>\n",
              "      <td>14511</td>\n",
              "    </tr>\n",
              "    <tr>\n",
              "      <th>3</th>\n",
              "      <td>От 1 года до 3 лет</td>\n",
              "      <td>26152</td>\n",
              "    </tr>\n",
              "  </tbody>\n",
              "</table>\n",
              "</div>"
            ],
            "text/plain": [
              "           experience    cnt\n",
              "0         Более 6 лет   1337\n",
              "1           Нет опыта   7197\n",
              "2       От 3 до 6 лет  14511\n",
              "3  От 1 года до 3 лет  26152"
            ]
          },
          "execution_count": 218,
          "metadata": {},
          "output_type": "execute_result"
        }
      ],
      "source": [
        "# результат запроса\n",
        "df_4_5 = pd.read_sql_query(query_4_5, connection)\n",
        "df_4_5"
      ]
    },
    {
      "cell_type": "markdown",
      "id": "oq2b7n1QpIka",
      "metadata": {
        "id": "oq2b7n1QpIka"
      },
      "source": [
        "***"
      ]
    },
    {
      "cell_type": "markdown",
      "id": "e91f87ed-e25c-4f96-9f92-b642e8c0b4fa",
      "metadata": {
        "id": "e91f87ed-e25c-4f96-9f92-b642e8c0b4fa"
      },
      "source": [
        "Традиционно большая часть вакансий сосредоточена в наиболее крупных городах, что делает выборку неравномерной по географии. Половина резюме без данных об одной из двух границ ЗП (скорее всего верхней).\n",
        "Среднее значение верхней вилки ЗП больше на 50%. \n",
        "Также видно, что растет популярность удаленой работы, гибкого графика и частичной занятости. В подовляющеем большинсве вакансий достаточно опыта менее 6 лет."
      ]
    },
    {
      "cell_type": "markdown",
      "id": "7ea20ab6-04a7-40a0-adec-443a0e5a42c3",
      "metadata": {
        "id": "7ea20ab6-04a7-40a0-adec-443a0e5a42c3"
      },
      "source": [
        "# Юнит 5. Анализ работодателей"
      ]
    },
    {
      "cell_type": "markdown",
      "id": "968aed80-74ef-4ffb-b5bf-c65b84e9caea",
      "metadata": {
        "id": "968aed80-74ef-4ffb-b5bf-c65b84e9caea"
      },
      "source": [
        "1. Напишите запрос, который позволит узнать, какие работодатели находятся на первом и пятом месте по количеству вакансий."
      ]
    },
    {
      "cell_type": "code",
      "execution_count": 219,
      "id": "f2d62796-d400-4ec1-a675-88112739a50e",
      "metadata": {
        "id": "f2d62796-d400-4ec1-a675-88112739a50e"
      },
      "outputs": [],
      "source": [
        "# текст запроса\n",
        "query_5_1 = f'''SELECT e.name, count(v.id) as cnt\n",
        "                from vacancies as v\n",
        "                inner join employers as e on v.employer_id = e.id\n",
        "                group by e.name\n",
        "                order by cnt desc\n",
        "                LIMIT 5\n",
        "                '''"
      ]
    },
    {
      "cell_type": "code",
      "execution_count": 220,
      "id": "64tOMkAxqkQk",
      "metadata": {
        "id": "64tOMkAxqkQk"
      },
      "outputs": [
        {
          "data": {
            "text/plain": [
              "name    Яндекс\n",
              "cnt       1933\n",
              "Name: 0, dtype: object"
            ]
          },
          "metadata": {},
          "output_type": "display_data"
        },
        {
          "data": {
            "text/plain": [
              "name    Газпром нефть\n",
              "cnt               331\n",
              "Name: 4, dtype: object"
            ]
          },
          "metadata": {},
          "output_type": "display_data"
        }
      ],
      "source": [
        "# результат запроса\n",
        "df_5_1 = pd.read_sql_query(query_5_1, connection)\n",
        "display(df_5_1.iloc[0], df_5_1.iloc[4])"
      ]
    },
    {
      "cell_type": "markdown",
      "id": "68377cfc-b378-43dc-ab7d-1195abf2c515",
      "metadata": {
        "id": "68377cfc-b378-43dc-ab7d-1195abf2c515"
      },
      "source": [
        "2. Напишите запрос, который для каждого региона выведет количество работодателей и вакансий в нём.\n",
        "Среди регионов, в которых нет вакансий, найдите тот, в котором наибольшее количество работодателей.\n"
      ]
    },
    {
      "cell_type": "code",
      "execution_count": 221,
      "id": "dd7df27a-e3e8-412e-a21a-5d389b71e891",
      "metadata": {
        "id": "dd7df27a-e3e8-412e-a21a-5d389b71e891"
      },
      "outputs": [],
      "source": [
        "# текст запроса\n",
        "query_5_2 = f'''\n",
        "                SELECT a.name, count(e.id) as cnt_empl, count(v.id) as cnt_vac\n",
        "                from areas as a\n",
        "                left join vacancies as v on v.area_id = a.id\n",
        "                left join employers as e on e.area = a.id\n",
        "                group by a.name\n",
        "                having count(v.id) = 0\n",
        "                order by  cnt_empl desc\n",
        "                limit 1\n",
        "                '''"
      ]
    },
    {
      "cell_type": "code",
      "execution_count": 222,
      "id": "x1ikWbydrbf6",
      "metadata": {
        "id": "x1ikWbydrbf6"
      },
      "outputs": [
        {
          "data": {
            "text/html": [
              "<div>\n",
              "<style scoped>\n",
              "    .dataframe tbody tr th:only-of-type {\n",
              "        vertical-align: middle;\n",
              "    }\n",
              "\n",
              "    .dataframe tbody tr th {\n",
              "        vertical-align: top;\n",
              "    }\n",
              "\n",
              "    .dataframe thead th {\n",
              "        text-align: right;\n",
              "    }\n",
              "</style>\n",
              "<table border=\"1\" class=\"dataframe\">\n",
              "  <thead>\n",
              "    <tr style=\"text-align: right;\">\n",
              "      <th></th>\n",
              "      <th>name</th>\n",
              "      <th>cnt_empl</th>\n",
              "      <th>cnt_vac</th>\n",
              "    </tr>\n",
              "  </thead>\n",
              "  <tbody>\n",
              "    <tr>\n",
              "      <th>0</th>\n",
              "      <td>Россия</td>\n",
              "      <td>410</td>\n",
              "      <td>0</td>\n",
              "    </tr>\n",
              "  </tbody>\n",
              "</table>\n",
              "</div>"
            ],
            "text/plain": [
              "     name  cnt_empl  cnt_vac\n",
              "0  Россия       410        0"
            ]
          },
          "execution_count": 222,
          "metadata": {},
          "output_type": "execute_result"
        }
      ],
      "source": [
        "# результат запроса\n",
        "df_5_2 = pd.read_sql_query(query_5_2, connection)\n",
        "df_5_2"
      ]
    },
    {
      "cell_type": "markdown",
      "id": "f2fe0acb-ab1a-4e15-9326-2560e22d73c1",
      "metadata": {
        "id": "f2fe0acb-ab1a-4e15-9326-2560e22d73c1"
      },
      "source": [
        "3. Для каждого работодателя посчитайте количество регионов, в которых он публикует свои вакансии. Отсортируйте результат по убыванию количества.\n"
      ]
    },
    {
      "cell_type": "code",
      "execution_count": 223,
      "id": "6271f8ad-bd2e-4196-ae4a-5b39c4c1010e",
      "metadata": {
        "id": "6271f8ad-bd2e-4196-ae4a-5b39c4c1010e"
      },
      "outputs": [],
      "source": [
        "# текст запроса\n",
        "query_5_3 = f'''SELECT e.name, count(DISTINCT a.id) as cnt\n",
        "                FROM areas as a\n",
        "                inner join vacancies as v on v.area_id = a.id\n",
        "                inner join employers as e on e.id = v.employer_id\n",
        "                group by e.name\n",
        "                order by cnt desc\n",
        "                '''"
      ]
    },
    {
      "cell_type": "code",
      "execution_count": 224,
      "id": "1EIvX3HasH4F",
      "metadata": {
        "id": "1EIvX3HasH4F"
      },
      "outputs": [
        {
          "data": {
            "text/html": [
              "<div>\n",
              "<style scoped>\n",
              "    .dataframe tbody tr th:only-of-type {\n",
              "        vertical-align: middle;\n",
              "    }\n",
              "\n",
              "    .dataframe tbody tr th {\n",
              "        vertical-align: top;\n",
              "    }\n",
              "\n",
              "    .dataframe thead th {\n",
              "        text-align: right;\n",
              "    }\n",
              "</style>\n",
              "<table border=\"1\" class=\"dataframe\">\n",
              "  <thead>\n",
              "    <tr style=\"text-align: right;\">\n",
              "      <th></th>\n",
              "      <th>name</th>\n",
              "      <th>cnt</th>\n",
              "    </tr>\n",
              "  </thead>\n",
              "  <tbody>\n",
              "    <tr>\n",
              "      <th>0</th>\n",
              "      <td>Яндекс</td>\n",
              "      <td>181</td>\n",
              "    </tr>\n",
              "    <tr>\n",
              "      <th>1</th>\n",
              "      <td>Ростелеком</td>\n",
              "      <td>152</td>\n",
              "    </tr>\n",
              "    <tr>\n",
              "      <th>2</th>\n",
              "      <td>Спецремонт</td>\n",
              "      <td>116</td>\n",
              "    </tr>\n",
              "    <tr>\n",
              "      <th>3</th>\n",
              "      <td>Поляков Денис Иванович</td>\n",
              "      <td>88</td>\n",
              "    </tr>\n",
              "    <tr>\n",
              "      <th>4</th>\n",
              "      <td>ООО ЕФИН</td>\n",
              "      <td>71</td>\n",
              "    </tr>\n",
              "    <tr>\n",
              "      <th>...</th>\n",
              "      <td>...</td>\n",
              "      <td>...</td>\n",
              "    </tr>\n",
              "    <tr>\n",
              "      <th>14761</th>\n",
              "      <td>UniSol</td>\n",
              "      <td>1</td>\n",
              "    </tr>\n",
              "    <tr>\n",
              "      <th>14762</th>\n",
              "      <td>UNISTORY LLC</td>\n",
              "      <td>1</td>\n",
              "    </tr>\n",
              "    <tr>\n",
              "      <th>14763</th>\n",
              "      <td>UNIT6</td>\n",
              "      <td>1</td>\n",
              "    </tr>\n",
              "    <tr>\n",
              "      <th>14764</th>\n",
              "      <td>United Distribution</td>\n",
              "      <td>1</td>\n",
              "    </tr>\n",
              "    <tr>\n",
              "      <th>14765</th>\n",
              "      <td>UNITEL LLC</td>\n",
              "      <td>1</td>\n",
              "    </tr>\n",
              "  </tbody>\n",
              "</table>\n",
              "<p>14766 rows × 2 columns</p>\n",
              "</div>"
            ],
            "text/plain": [
              "                         name  cnt\n",
              "0                      Яндекс  181\n",
              "1                  Ростелеком  152\n",
              "2                  Спецремонт  116\n",
              "3      Поляков Денис Иванович   88\n",
              "4                   ООО ЕФИН    71\n",
              "...                       ...  ...\n",
              "14761                  UniSol    1\n",
              "14762            UNISTORY LLC    1\n",
              "14763                   UNIT6    1\n",
              "14764     United Distribution    1\n",
              "14765              UNITEL LLC    1\n",
              "\n",
              "[14766 rows x 2 columns]"
            ]
          },
          "execution_count": 224,
          "metadata": {},
          "output_type": "execute_result"
        }
      ],
      "source": [
        "# результат запроса\n",
        "df_5_3 = pd.read_sql_query(query_5_3, connection)\n",
        "df_5_3"
      ]
    },
    {
      "cell_type": "markdown",
      "id": "eab2206d-d95b-468b-8e5f-34381abf0ce7",
      "metadata": {
        "id": "eab2206d-d95b-468b-8e5f-34381abf0ce7"
      },
      "source": [
        "4. Напишите запрос для подсчёта количества работодателей, у которых не указана сфера деятельности. "
      ]
    },
    {
      "cell_type": "code",
      "execution_count": 225,
      "id": "80defb23-bfb1-4a18-8be6-bf36aa7165d5",
      "metadata": {
        "id": "80defb23-bfb1-4a18-8be6-bf36aa7165d5"
      },
      "outputs": [],
      "source": [
        "# текст запроса\n",
        "query_5_4 = f'''SELECT count(*)\n",
        "                FROM employers as e\n",
        "                left join employers_industries as i on e.id = i.employer_id\n",
        "                where i.industry_id is null\n",
        "                '''"
      ]
    },
    {
      "cell_type": "code",
      "execution_count": 226,
      "id": "Dp_yCx6ysQSu",
      "metadata": {
        "id": "Dp_yCx6ysQSu"
      },
      "outputs": [
        {
          "data": {
            "text/html": [
              "<div>\n",
              "<style scoped>\n",
              "    .dataframe tbody tr th:only-of-type {\n",
              "        vertical-align: middle;\n",
              "    }\n",
              "\n",
              "    .dataframe tbody tr th {\n",
              "        vertical-align: top;\n",
              "    }\n",
              "\n",
              "    .dataframe thead th {\n",
              "        text-align: right;\n",
              "    }\n",
              "</style>\n",
              "<table border=\"1\" class=\"dataframe\">\n",
              "  <thead>\n",
              "    <tr style=\"text-align: right;\">\n",
              "      <th></th>\n",
              "      <th>count</th>\n",
              "    </tr>\n",
              "  </thead>\n",
              "  <tbody>\n",
              "    <tr>\n",
              "      <th>0</th>\n",
              "      <td>8419</td>\n",
              "    </tr>\n",
              "  </tbody>\n",
              "</table>\n",
              "</div>"
            ],
            "text/plain": [
              "   count\n",
              "0   8419"
            ]
          },
          "execution_count": 226,
          "metadata": {},
          "output_type": "execute_result"
        }
      ],
      "source": [
        "# результат запроса\n",
        "df_5_4 = pd.read_sql_query(query_5_4, connection)\n",
        "df_5_4"
      ]
    },
    {
      "cell_type": "markdown",
      "id": "0112af31-f6b0-4e3b-82ab-71296e752e5e",
      "metadata": {
        "id": "0112af31-f6b0-4e3b-82ab-71296e752e5e"
      },
      "source": [
        "5. Напишите запрос, чтобы узнать название компании, находящейся на третьем месте в алфавитном списке (по названию) компаний, у которых указано четыре сферы деятельности. "
      ]
    },
    {
      "cell_type": "code",
      "execution_count": 227,
      "id": "973b0cfc-a972-470a-8b4a-68744ef220c4",
      "metadata": {
        "id": "973b0cfc-a972-470a-8b4a-68744ef220c4"
      },
      "outputs": [],
      "source": [
        "# текст запроса\n",
        "query_5_5 = f'''SELECT e.name, count(i.industry_id)\n",
        "                FROM employers as e\n",
        "                left join employers_industries as i on e.id = i.employer_id\n",
        "                group by e.name\n",
        "                having count(i.industry_id) = 4\n",
        "                order by e.name\n",
        "                limit 1 offset 2\n",
        "                '''"
      ]
    },
    {
      "cell_type": "code",
      "execution_count": 228,
      "id": "xsPtpp8EsaED",
      "metadata": {
        "id": "xsPtpp8EsaED"
      },
      "outputs": [
        {
          "data": {
            "text/html": [
              "<div>\n",
              "<style scoped>\n",
              "    .dataframe tbody tr th:only-of-type {\n",
              "        vertical-align: middle;\n",
              "    }\n",
              "\n",
              "    .dataframe tbody tr th {\n",
              "        vertical-align: top;\n",
              "    }\n",
              "\n",
              "    .dataframe thead th {\n",
              "        text-align: right;\n",
              "    }\n",
              "</style>\n",
              "<table border=\"1\" class=\"dataframe\">\n",
              "  <thead>\n",
              "    <tr style=\"text-align: right;\">\n",
              "      <th></th>\n",
              "      <th>name</th>\n",
              "      <th>count</th>\n",
              "    </tr>\n",
              "  </thead>\n",
              "  <tbody>\n",
              "    <tr>\n",
              "      <th>0</th>\n",
              "      <td>2ГИС</td>\n",
              "      <td>4</td>\n",
              "    </tr>\n",
              "  </tbody>\n",
              "</table>\n",
              "</div>"
            ],
            "text/plain": [
              "   name  count\n",
              "0  2ГИС      4"
            ]
          },
          "execution_count": 228,
          "metadata": {},
          "output_type": "execute_result"
        }
      ],
      "source": [
        "# результат запроса\n",
        "df_5_5 = pd.read_sql_query(query_5_5, connection)\n",
        "df_5_5"
      ]
    },
    {
      "cell_type": "markdown",
      "id": "3bfcfdaf-755d-4d2b-8ed8-326201dc07ab",
      "metadata": {
        "id": "3bfcfdaf-755d-4d2b-8ed8-326201dc07ab"
      },
      "source": [
        "6. С помощью запроса выясните, у какого количества работодателей в качестве сферы деятельности указана Разработка программного обеспечения.\n"
      ]
    },
    {
      "cell_type": "code",
      "execution_count": 229,
      "id": "ad3f270f-2991-47eb-929b-e8f88a55b0d1",
      "metadata": {
        "id": "ad3f270f-2991-47eb-929b-e8f88a55b0d1"
      },
      "outputs": [],
      "source": [
        "# текст запроса\n",
        "query_5_6 = f'''SELECT count(*)\n",
        "                FROM employers as e\n",
        "                inner join employers_industries as ei on e.id = ei.employer_id\n",
        "                inner join industries as i on ei.industry_id  = i.id \n",
        "                where i.name = 'Разработка программного обеспечения'\n",
        "                '''"
      ]
    },
    {
      "cell_type": "code",
      "execution_count": 230,
      "id": "H72qxWM0shPR",
      "metadata": {
        "id": "H72qxWM0shPR"
      },
      "outputs": [
        {
          "data": {
            "text/html": [
              "<div>\n",
              "<style scoped>\n",
              "    .dataframe tbody tr th:only-of-type {\n",
              "        vertical-align: middle;\n",
              "    }\n",
              "\n",
              "    .dataframe tbody tr th {\n",
              "        vertical-align: top;\n",
              "    }\n",
              "\n",
              "    .dataframe thead th {\n",
              "        text-align: right;\n",
              "    }\n",
              "</style>\n",
              "<table border=\"1\" class=\"dataframe\">\n",
              "  <thead>\n",
              "    <tr style=\"text-align: right;\">\n",
              "      <th></th>\n",
              "      <th>count</th>\n",
              "    </tr>\n",
              "  </thead>\n",
              "  <tbody>\n",
              "    <tr>\n",
              "      <th>0</th>\n",
              "      <td>3553</td>\n",
              "    </tr>\n",
              "  </tbody>\n",
              "</table>\n",
              "</div>"
            ],
            "text/plain": [
              "   count\n",
              "0   3553"
            ]
          },
          "execution_count": 230,
          "metadata": {},
          "output_type": "execute_result"
        }
      ],
      "source": [
        "# результат запроса\n",
        "df_5_6 = pd.read_sql_query(query_5_6, connection)\n",
        "df_5_6"
      ]
    },
    {
      "cell_type": "markdown",
      "id": "7b02bb86-0546-40fb-94a4-242f050a5c57",
      "metadata": {
        "id": "7b02bb86-0546-40fb-94a4-242f050a5c57"
      },
      "source": [
        "7. Для компании «Яндекс» выведите список регионов-миллионников, в которых представлены вакансии компании, вместе с количеством вакансий в этих регионах. Также добавьте строку Total с общим количеством вакансий компании. Результат отсортируйте по возрастанию количества.\n",
        "\n",
        "Список городов-милионников надо взять [отсюда](https://ru.wikipedia.org/wiki/%D0%93%D0%BE%D1%80%D0%BE%D0%B4%D0%B0-%D0%BC%D0%B8%D0%BB%D0%BB%D0%B8%D0%BE%D0%BD%D0%B5%D1%80%D1%8B_%D0%A0%D0%BE%D1%81%D1%81%D0%B8%D0%B8). \n",
        "\n",
        "Если возникнут трудности с этим задание посмотрите материалы модуля  PYTHON-17. Как получать данные из веб-источников и API. "
      ]
    },
    {
      "cell_type": "code",
      "execution_count": 231,
      "id": "ZdfrL6gIs1Pn",
      "metadata": {
        "id": "ZdfrL6gIs1Pn"
      },
      "outputs": [],
      "source": [
        "import requests\n",
        "from bs4 import BeautifulSoup\n",
        "\n",
        "url = 'https://ru.wikipedia.org/wiki/%D0%93%D0%BE%D1%80%D0%BE%D0%B4%D0%B0-%D0%BC%D0%B8%D0%BB%D0%BB%D0%B8%D0%BE%D0%BD%D0%B5%D1%80%D1%8B_%D0%A0%D0%BE%D1%81%D1%81%D0%B8%D0%B8#%D0%A1%D0%BF%D0%B8%D1%81%D0%BE%D0%BA_%D0%B3%D0%BE%D1%80%D0%BE%D0%B4%D0%BE%D0%B2'\n",
        "headers = {\n",
        "    'User-Agent': 'Mozilla/5.0'\n",
        "}\n",
        "response = requests.get(url, headers=headers)\n",
        "response.encoding = 'utf-8'\n",
        "soup = BeautifulSoup(response.text, \"html.parser\")\n",
        "tables = soup.find_all('table')\n",
        "\n",
        "cities_list = []\n",
        "\n",
        "for index, string in enumerate(str(tables[0]).split(' ')):\n",
        "    if 'title=' in string and 'Всероссийская' not in string:\n",
        "\n",
        "        if '>' in str(tables[0]).split(' ')[index+1]:\n",
        "            cities_list.append(\n",
        "                (string.split('\"')[1]) + ' ' + (str(tables[0]).split(' ')[index+1]).split('\"')[0])\n",
        "        else:\n",
        "            cities_list.append(string.split('\"')[1])\n",
        "\n",
        "cities_string = \"(\" + \", \".join(f\"'{city}'\" for city in cities_list) + \")\""
      ]
    },
    {
      "cell_type": "code",
      "execution_count": 232,
      "id": "5a0e32a4-e68a-4365-8a39-2fe24c542c36",
      "metadata": {
        "id": "5a0e32a4-e68a-4365-8a39-2fe24c542c36"
      },
      "outputs": [],
      "source": [
        "# текст запроса<table class=\"standard sortable\"><tbody><tr><th scope=\"col\">№</th><th scope=\"col\">Город</th><th data-sort-type=\"number\" scope=\"col\">Население, <br/> тыс. чел.<br/><small>  (на 1 января 2025)<sup class=\"reference\" id=\"cite_ref-jan01_2-0\"><a href=\"#cite_note-jan01-2\"><span class=\"cite-bracket\">[</span>2<span class=\"cite-bracket\">]</span></a></sup></small></th><th data-sort-type=\"number\" scope=\"col\">Население, <br/> тыс. чел.<br/><small> (<a href=\"/wiki/%D0%92%D1%81%D0%B5%D1%80%D0%BE%D1%81%D1%81%D0%B8%D0%B9%D1%81%D0%BA%D0%B0%D1%8F_%D0%BF%D0%B5%D1%80%D0%B5%D0%BF%D0%B8%D1%81%D1%8C_%D0%BD%D0%B0%D1%81%D0%B5%D0%BB%D0%B5%D0%BD%D0%B8%D1%8F_(2020%E2%80%942021)\" title=\"Всероссийская перепись населения (2020—2021)\">перепись-2021</a>)<sup class=\"reference\" id=\"cite_ref-ofperep21_3-0\"><a href=\"#cite_note-ofperep21-3\"><span class=\"cite-bracket\">[</span>3<span class=\"cite-bracket\">]</span></a></sup></small></th><th data-sort-type=\"number\" scope=\"col\">Прирост<br/> относительно<br/>  переписи-2010</th><th data-sort-type=\"number\" scope=\"col\">Население, <br/> тыс. чел.<br/><small>(<a href=\"/wiki/%D0%92%D1%81%D0%B5%D1%80%D0%BE%D1%81%D1%81%D0%B8%D0%B9%D1%81%D0%BA%D0%B0%D1%8F_%D0%BF%D0%B5%D1%80%D0%B5%D0%BF%D0%B8%D1%81%D1%8C_%D0%BD%D0%B0%D1%81%D0%B5%D0%BB%D0%B5%D0%BD%D0%B8%D1%8F_(2010)\" title=\"Всероссийская перепись населения (2010)\">перепись-2010</a>)<sup class=\"reference\" id=\"cite_ref-GKS_100_4-0\"><a href=\"#cite_note-GKS_100-4\"><span class=\"cite-bracket\">[</span>4<span class=\"cite-bracket\">]</span></a></sup></small></th></tr><tr><td style=\"text-align:center\">1</td><td><a href=\"/wiki/%D0%9C%D0%BE%D1%81%D0%BA%D0%B2%D0%B0\" title=\"Москва\">Москва</a></td><td data-sort-value=\"13274\" style=\"text-align:right\">13 274</td><td data-sort-value=\"13010\" style=\"text-align:right\">13 010</td><td data-sort-value=\"13.1\" style=\"text-align:right\">13,1 %</td><td data-sort-value=\"11504\" style=\"text-align:right\">11 504</td></tr><tr><td style=\"text-align:center\">2</td><td><a href=\"/wiki/%D0%A1%D0%B0%D0%BD%D0%BA%D1%82-%D0%9F%D0%B5%D1%82%D0%B5%D1%80%D0%B1%D1%83%D1%80%D0%B3\" title=\"Санкт-Петербург\">Санкт-Петербург</a></td><td data-sort-value=\"5653\" style=\"text-align:right\">5 653</td><td data-sort-value=\"5602\" style=\"text-align:right\">5 602</td><td data-sort-value=\"14.8\" style=\"text-align:right\">14,8 %</td><td data-sort-value=\"4880\" style=\"text-align:right\">4 880</td></tr><tr><td style=\"text-align:center\">3</td><td><a href=\"/wiki/%D0%9D%D0%BE%D0%B2%D0%BE%D1%81%D0%B8%D0%B1%D0%B8%D1%80%D1%81%D0%BA\" title=\"Новосибирск\">Новосибирск</a></td><td data-sort-value=\"1637\" style=\"text-align:right\">1 637</td><td data-sort-value=\"1634\" style=\"text-align:right\">1 634</td><td data-sort-value=\"10.9\" style=\"text-align:right\">10,9 %</td><td data-sort-value=\"1474\" style=\"text-align:right\">1 474</td></tr><tr><td style=\"text-align:center\">4</td><td><a href=\"/wiki/%D0%95%D0%BA%D0%B0%D1%82%D0%B5%D1%80%D0%B8%D0%BD%D0%B1%D1%83%D1%80%D0%B3\" title=\"Екатеринбург\">Екатеринбург</a></td><td data-sort-value=\"1548\" style=\"text-align:right\">1 548</td><td data-sort-value=\"1544\" style=\"text-align:right\">1 544</td><td data-sort-value=\"14.4\" style=\"text-align:right\">14,4 %</td><td data-sort-value=\"1350\" style=\"text-align:right\">1 350</td></tr><tr><td style=\"text-align:center\">5</td><td><a href=\"/wiki/%D0%9A%D0%B0%D0%B7%D0%B0%D0%BD%D1%8C\" title=\"Казань\">Казань</a></td><td data-sort-value=\"1330\" style=\"text-align:right\">1 330</td><td data-sort-value=\"1309\" style=\"text-align:right\">1 309</td><td data-sort-value=\"14.4\" style=\"text-align:right\">14,4 %</td><td data-sort-value=\"1144\" style=\"text-align:right\">1 144</td></tr><tr><td style=\"text-align:center\">6</td><td><a href=\"/wiki/%D0%9A%D1%80%D0%B0%D1%81%D0%BD%D0%BE%D1%8F%D1%80%D1%81%D0%BA\" title=\"Красноярск\">Красноярск</a></td><td data-sort-value=\"1212\" style=\"text-align:right\">1 212</td><td data-sort-value=\"1188\" style=\"text-align:right\">1 188</td><td data-sort-value=\"21.6\" style=\"text-align:right\">21,6 %</td><td data-sort-value=\"977\" style=\"text-align:right\">977</td></tr><tr><td style=\"text-align:center\">7</td><td><a href=\"/wiki/%D0%9D%D0%B8%D0%B6%D0%BD%D0%B8%D0%B9_%D0%9D%D0%BE%D0%B2%D0%B3%D0%BE%D1%80%D0%BE%D0%B4\" title=\"Нижний Новгород\">Нижний Новгород</a></td><td data-sort-value=\"1198\" style=\"text-align:right\">1 198</td><td data-sort-value=\"1226\" style=\"text-align:right\">1 226</td><td data-sort-value=\"0.2\" style=\"text-align:right\"><span class=\"noprint\" style=\"display: none;\">0,2</span>−2,0 %</td><td data-sort-value=\"1251\" style=\"text-align:right\">1 251</td></tr><tr><td style=\"text-align:center\">8</td><td><a href=\"/wiki/%D0%A7%D0%B5%D0%BB%D1%8F%D0%B1%D0%B8%D0%BD%D1%81%D0%BA\" title=\"Челябинск\">Челябинск</a></td><td data-sort-value=\"1177\" style=\"text-align:right\">1 177</td><td data-sort-value=\"1190\" style=\"text-align:right\">1 190</td><td data-sort-value=\"5.3\" style=\"text-align:right\">5,3 %</td><td data-sort-value=\"1130\" style=\"text-align:right\">1 130</td></tr><tr><td style=\"text-align:center\">9</td><td><a href=\"/wiki/%D0%A3%D1%84%D0%B0\" title=\"Уфа\">Уфа</a></td><td data-sort-value=\"1166\" style=\"text-align:right\">1 166</td><td data-sort-value=\"1145\" style=\"text-align:right\">1 145</td><td data-sort-value=\"7.8\" style=\"text-align:right\">7,8 %</td><td data-sort-value=\"1062\" style=\"text-align:right\">1 062</td></tr><tr><td style=\"text-align:center\">10</td><td><a href=\"/wiki/%D0%9A%D1%80%D0%B0%D1%81%D0%BD%D0%BE%D0%B4%D0%B0%D1%80\" title=\"Краснодар\">Краснодар</a></td><td data-sort-value=\"1155\" style=\"text-align:right\">1 155</td><td data-sort-value=\"1099\" style=\"text-align:right\">1 099</td><td data-sort-value=\"43.8\" style=\"text-align:right\">43,8 %</td><td data-sort-value=\"764\" style=\"text-align:right\">764</td></tr><tr><td style=\"text-align:center\">11</td><td><a href=\"/wiki/%D0%A1%D0%B0%D0%BC%D0%B0%D1%80%D0%B0\" title=\"Самара\">Самара</a></td><td data-sort-value=\"1154\" style=\"text-align:right\">1 154</td><td data-sort-value=\"1173\" style=\"text-align:right\">1 173</td><td data-sort-value=\"0.3\" style=\"text-align:right\">0,3 %</td><td data-sort-value=\"1169\" style=\"text-align:right\">1 169</td></tr><tr><td style=\"text-align:center\">12</td><td><a href=\"/wiki/%D0%A0%D0%BE%D1%81%D1%82%D0%BE%D0%B2-%D0%BD%D0%B0-%D0%94%D0%BE%D0%BD%D1%83\" title=\"Ростов-на-Дону\">Ростов-на-Дону</a></td><td data-sort-value=\"1143\" style=\"text-align:right\">1 143</td><td data-sort-value=\"1142\" style=\"text-align:right\">1 142</td><td data-sort-value=\"4.9\" style=\"text-align:right\">4,9 %</td><td data-sort-value=\"1089\" style=\"text-align:right\">1 089</td></tr><tr><td style=\"text-align:center\">13</td><td><a href=\"/wiki/%D0%9E%D0%BC%D1%81%D0%BA\" title=\"Омск\">Омск</a></td><td data-sort-value=\"1101\" style=\"text-align:right\">1 101</td><td data-sort-value=\"1126\" style=\"text-align:right\">1 126</td><td data-sort-value=\"0.1\" style=\"text-align:right\"><span class=\"noprint\" style=\"display: none;\">0,1</span>−3,4 %</td><td data-sort-value=\"1166\" style=\"text-align:right\">1 166</td></tr><tr><td style=\"text-align:center\">14</td><td><a href=\"/wiki/%D0%92%D0%BE%D1%80%D0%BE%D0%BD%D0%B5%D0%B6\" title=\"Воронеж\">Воронеж</a></td><td data-sort-value=\"1042\" style=\"text-align:right\">1 042</td><td data-sort-value=\"1058\" style=\"text-align:right\">1 058</td><td data-sort-value=\"18.9\" style=\"text-align:right\">18,9 %</td><td data-sort-value=\"890\" style=\"text-align:right\">890</td></tr><tr><td style=\"text-align:center\">15</td><td><a href=\"/wiki/%D0%9F%D0%B5%D1%80%D0%BC%D1%8C\" title=\"Пермь\">Пермь</a></td><td data-sort-value=\"1028\" style=\"text-align:right\">1 028</td><td data-sort-value=\"1034\" style=\"text-align:right\">1 034</td><td data-sort-value=\"4.3\" style=\"text-align:right\">4,3 %</td><td data-sort-value=\"991\" style=\"text-align:right\">991</td></tr><tr><td style=\"text-align:center\">16</td><td><a href=\"/wiki/%D0%92%D0%BE%D0%BB%D0%B3%D0%BE%D0%B3%D1%80%D0%B0%D0%B4\" title=\"Волгоград\">Волгоград</a></td><td data-sort-value=\"1012\" style=\"text-align:right\">1 012</td><td data-sort-value=\"1028\" style=\"text-align:right\">1 028</td><td data-sort-value=\"0.7\" style=\"text-align:right\">0,7 %</td><td data-sort-value=\"1021\" style=\"text-align:right\">1 021</td></tr></tbody></table>\n",
        "\n",
        "\n",
        "query_5_7 = f'''SELECT a.name, count(v.id) as cnt\n",
        "                FROM employers as e \n",
        "                inner join vacancies as v on e.id = v.employer_id\n",
        "                inner join areas as a on a.id = v.area_id\n",
        "                where e.name = 'Яндекс' and a.name in {cities_string}              \n",
        "                group by a.name\n",
        "                \n",
        "                \n",
        "                UNION ALL   \n",
        "                 \n",
        "                SELECT 'Total' as name, count(v.id) as cnt\n",
        "                FROM employers as e \n",
        "                inner join vacancies as v on e.id = v.employer_id\n",
        "                inner join areas as a on a.id = v.area_id\n",
        "                where e.name = 'Яндекс' and a.name in {cities_string}              \n",
        "                order by cnt\n",
        "                \n",
        "                '''"
      ]
    },
    {
      "cell_type": "code",
      "execution_count": 233,
      "id": "ttPhiO1rsvPq",
      "metadata": {
        "id": "ttPhiO1rsvPq"
      },
      "outputs": [
        {
          "data": {
            "text/html": [
              "<div>\n",
              "<style scoped>\n",
              "    .dataframe tbody tr th:only-of-type {\n",
              "        vertical-align: middle;\n",
              "    }\n",
              "\n",
              "    .dataframe tbody tr th {\n",
              "        vertical-align: top;\n",
              "    }\n",
              "\n",
              "    .dataframe thead th {\n",
              "        text-align: right;\n",
              "    }\n",
              "</style>\n",
              "<table border=\"1\" class=\"dataframe\">\n",
              "  <thead>\n",
              "    <tr style=\"text-align: right;\">\n",
              "      <th></th>\n",
              "      <th>name</th>\n",
              "      <th>cnt</th>\n",
              "    </tr>\n",
              "  </thead>\n",
              "  <tbody>\n",
              "    <tr>\n",
              "      <th>0</th>\n",
              "      <td>Омск</td>\n",
              "      <td>21</td>\n",
              "    </tr>\n",
              "    <tr>\n",
              "      <th>1</th>\n",
              "      <td>Челябинск</td>\n",
              "      <td>22</td>\n",
              "    </tr>\n",
              "    <tr>\n",
              "      <th>2</th>\n",
              "      <td>Красноярск</td>\n",
              "      <td>23</td>\n",
              "    </tr>\n",
              "    <tr>\n",
              "      <th>3</th>\n",
              "      <td>Волгоград</td>\n",
              "      <td>24</td>\n",
              "    </tr>\n",
              "    <tr>\n",
              "      <th>4</th>\n",
              "      <td>Пермь</td>\n",
              "      <td>25</td>\n",
              "    </tr>\n",
              "    <tr>\n",
              "      <th>5</th>\n",
              "      <td>Казань</td>\n",
              "      <td>25</td>\n",
              "    </tr>\n",
              "    <tr>\n",
              "      <th>6</th>\n",
              "      <td>Ростов-на-Дону</td>\n",
              "      <td>25</td>\n",
              "    </tr>\n",
              "    <tr>\n",
              "      <th>7</th>\n",
              "      <td>Уфа</td>\n",
              "      <td>26</td>\n",
              "    </tr>\n",
              "    <tr>\n",
              "      <th>8</th>\n",
              "      <td>Самара</td>\n",
              "      <td>26</td>\n",
              "    </tr>\n",
              "    <tr>\n",
              "      <th>9</th>\n",
              "      <td>Краснодар</td>\n",
              "      <td>30</td>\n",
              "    </tr>\n",
              "    <tr>\n",
              "      <th>10</th>\n",
              "      <td>Воронеж</td>\n",
              "      <td>32</td>\n",
              "    </tr>\n",
              "    <tr>\n",
              "      <th>11</th>\n",
              "      <td>Новосибирск</td>\n",
              "      <td>35</td>\n",
              "    </tr>\n",
              "    <tr>\n",
              "      <th>12</th>\n",
              "      <td>Нижний Новгород</td>\n",
              "      <td>36</td>\n",
              "    </tr>\n",
              "    <tr>\n",
              "      <th>13</th>\n",
              "      <td>Екатеринбург</td>\n",
              "      <td>39</td>\n",
              "    </tr>\n",
              "    <tr>\n",
              "      <th>14</th>\n",
              "      <td>Санкт-Петербург</td>\n",
              "      <td>42</td>\n",
              "    </tr>\n",
              "    <tr>\n",
              "      <th>15</th>\n",
              "      <td>Москва</td>\n",
              "      <td>54</td>\n",
              "    </tr>\n",
              "    <tr>\n",
              "      <th>16</th>\n",
              "      <td>Total</td>\n",
              "      <td>485</td>\n",
              "    </tr>\n",
              "  </tbody>\n",
              "</table>\n",
              "</div>"
            ],
            "text/plain": [
              "               name  cnt\n",
              "0              Омск   21\n",
              "1         Челябинск   22\n",
              "2        Красноярск   23\n",
              "3         Волгоград   24\n",
              "4             Пермь   25\n",
              "5            Казань   25\n",
              "6    Ростов-на-Дону   25\n",
              "7               Уфа   26\n",
              "8            Самара   26\n",
              "9         Краснодар   30\n",
              "10          Воронеж   32\n",
              "11      Новосибирск   35\n",
              "12  Нижний Новгород   36\n",
              "13     Екатеринбург   39\n",
              "14  Санкт-Петербург   42\n",
              "15           Москва   54\n",
              "16            Total  485"
            ]
          },
          "execution_count": 233,
          "metadata": {},
          "output_type": "execute_result"
        }
      ],
      "source": [
        "# результат запроса\n",
        "df_5_7 = pd.read_sql_query(query_5_7, connection)\n",
        "df_5_7"
      ]
    },
    {
      "cell_type": "markdown",
      "id": "04966e40-3bc3-4dc8-9ba2-e80580ce3abc",
      "metadata": {
        "id": "04966e40-3bc3-4dc8-9ba2-e80580ce3abc"
      },
      "source": [
        "***"
      ]
    },
    {
      "cell_type": "markdown",
      "id": "aGGyER-yt4SR",
      "metadata": {
        "id": "aGGyER-yt4SR"
      },
      "source": [
        "Наибольшее количество вакансий сосредоточено у таких компаний, как Яндекс, Ростелеком, Тинькофф, СБЕР и Газпром нефть. Особенно выделяется Яндекс, сохраняющий лидерские позиции по числу вакансий и охвату регионов, включая столицу и крупные города-миллионники. Ростелеком, Тинькофф и СБЕР демонстрируют схожую географическую представленность, что говорит о масштабности компаний.\n",
        "\n",
        "В столице и городах-миллионниках наблюдается концентрация крупнейшего числа вакансий, что объясняется высокой экономической активностью и численностью населения в этих регионах. При этом часть вакансий не привязана к конкретному региону, что характерно для IT-компаний и финансового сектора, где возможна удалённая работа или филиальная структура. "
      ]
    },
    {
      "cell_type": "markdown",
      "id": "b1ef156a-efcb-49ce-bb23-90763e7f35b2",
      "metadata": {
        "id": "b1ef156a-efcb-49ce-bb23-90763e7f35b2",
        "tags": []
      },
      "source": [
        "# Юнит 6. Предметный анализ"
      ]
    },
    {
      "cell_type": "markdown",
      "id": "b9cd50a0-992d-4988-8463-2b2b1c4629b4",
      "metadata": {
        "id": "b9cd50a0-992d-4988-8463-2b2b1c4629b4"
      },
      "source": [
        "1. Сколько вакансий имеет отношение к данным?\n",
        "\n",
        "Считаем, что вакансия имеет отношение к данным, если в её названии содержатся слова 'data' или 'данн'.\n",
        "\n",
        "*Подсказка: Обратите внимание, что названия вакансий могут быть написаны в любом регистре.* \n"
      ]
    },
    {
      "cell_type": "code",
      "execution_count": 234,
      "id": "54ab0e50-c0f1-47cc-a54b-bc5c8bc363f9",
      "metadata": {
        "id": "54ab0e50-c0f1-47cc-a54b-bc5c8bc363f9"
      },
      "outputs": [],
      "source": [
        "query_6_1 = f'''SELECT count(*)\n",
        "                from vacancies \n",
        "                where  lower(name) like '%data%' or lower(name) like '%данн%'\n",
        "                               \n",
        "                '''"
      ]
    },
    {
      "cell_type": "code",
      "execution_count": 235,
      "id": "9F1meAqsuUjd",
      "metadata": {
        "id": "9F1meAqsuUjd"
      },
      "outputs": [
        {
          "data": {
            "text/html": [
              "<div>\n",
              "<style scoped>\n",
              "    .dataframe tbody tr th:only-of-type {\n",
              "        vertical-align: middle;\n",
              "    }\n",
              "\n",
              "    .dataframe tbody tr th {\n",
              "        vertical-align: top;\n",
              "    }\n",
              "\n",
              "    .dataframe thead th {\n",
              "        text-align: right;\n",
              "    }\n",
              "</style>\n",
              "<table border=\"1\" class=\"dataframe\">\n",
              "  <thead>\n",
              "    <tr style=\"text-align: right;\">\n",
              "      <th></th>\n",
              "      <th>count</th>\n",
              "    </tr>\n",
              "  </thead>\n",
              "  <tbody>\n",
              "    <tr>\n",
              "      <th>0</th>\n",
              "      <td>1771</td>\n",
              "    </tr>\n",
              "  </tbody>\n",
              "</table>\n",
              "</div>"
            ],
            "text/plain": [
              "   count\n",
              "0   1771"
            ]
          },
          "execution_count": 235,
          "metadata": {},
          "output_type": "execute_result"
        }
      ],
      "source": [
        "# результат запроса\n",
        "df_6_1 = pd.read_sql_query(query_6_1, connection)\n",
        "df_6_1"
      ]
    },
    {
      "cell_type": "markdown",
      "id": "4dea20cb-a36b-474a-a0b9-e08e8e3857a5",
      "metadata": {
        "id": "4dea20cb-a36b-474a-a0b9-e08e8e3857a5"
      },
      "source": [
        "2. Сколько есть подходящих вакансий для начинающего дата-сайентиста? \n",
        "Будем считать вакансиями для дата-сайентистов такие, в названии которых есть хотя бы одно из следующих сочетаний:\n",
        "* 'data scientist'\n",
        "* 'data science'\n",
        "* 'исследователь данных'\n",
        "* 'ML' (здесь не нужно брать вакансии по HTML)\n",
        "* 'machine learning'\n",
        "* 'машинн%обучен%'\n",
        "\n",
        "** В следующих заданиях мы продолжим работать с вакансиями по этому условию.*\n",
        "\n",
        "Считаем вакансиями для специалистов уровня Junior следующие:\n",
        "* в названии есть слово 'junior' *или*\n",
        "* требуемый опыт — Нет опыта *или*\n",
        "* тип трудоустройства — Стажировка.\n",
        " "
      ]
    },
    {
      "cell_type": "code",
      "execution_count": 236,
      "id": "9c61b3c0-bb66-46c9-ae1e-81d3f5752b4a",
      "metadata": {
        "id": "9c61b3c0-bb66-46c9-ae1e-81d3f5752b4a"
      },
      "outputs": [],
      "source": [
        "# текст запроса\n",
        "query_6_2 = f'''SELECT count(*)\n",
        "                FROM vacancies\n",
        "                WHERE (\n",
        "                LOWER(name) LIKE '%data scientist%' OR\n",
        "                LOWER(name) LIKE '%data science%' OR\n",
        "                LOWER(name) LIKE '%исследователь данных%' OR\n",
        "                LOWER(name) LIKE '%ml%' OR\n",
        "                LOWER(name) LIKE '%machine learning%' OR\n",
        "                LOWER(name) LIKE '%машинн%обучен%'\n",
        "                )\n",
        "                AND LOWER(name) NOT LIKE '%html%'\n",
        "                AND (\n",
        "                LOWER(name) LIKE '%junior%' OR\n",
        "                LOWER(experience) LIKE '%нет опыта%' OR\n",
        "                LOWER(schedule) LIKE '%стажировка%')\n",
        "                '''"
      ]
    },
    {
      "cell_type": "code",
      "execution_count": 237,
      "id": "ZNM-LLYuu1dj",
      "metadata": {
        "id": "ZNM-LLYuu1dj"
      },
      "outputs": [
        {
          "data": {
            "text/html": [
              "<div>\n",
              "<style scoped>\n",
              "    .dataframe tbody tr th:only-of-type {\n",
              "        vertical-align: middle;\n",
              "    }\n",
              "\n",
              "    .dataframe tbody tr th {\n",
              "        vertical-align: top;\n",
              "    }\n",
              "\n",
              "    .dataframe thead th {\n",
              "        text-align: right;\n",
              "    }\n",
              "</style>\n",
              "<table border=\"1\" class=\"dataframe\">\n",
              "  <thead>\n",
              "    <tr style=\"text-align: right;\">\n",
              "      <th></th>\n",
              "      <th>count</th>\n",
              "    </tr>\n",
              "  </thead>\n",
              "  <tbody>\n",
              "    <tr>\n",
              "      <th>0</th>\n",
              "      <td>51</td>\n",
              "    </tr>\n",
              "  </tbody>\n",
              "</table>\n",
              "</div>"
            ],
            "text/plain": [
              "   count\n",
              "0     51"
            ]
          },
          "execution_count": 237,
          "metadata": {},
          "output_type": "execute_result"
        }
      ],
      "source": [
        "# результат запроса\n",
        "df_6_2 = pd.read_sql_query(query_6_2, connection)\n",
        "df_6_2"
      ]
    },
    {
      "cell_type": "markdown",
      "id": "eedceb80-c5ca-480e-b27a-278dfb8b4438",
      "metadata": {
        "id": "eedceb80-c5ca-480e-b27a-278dfb8b4438"
      },
      "source": [
        "3. Сколько есть вакансий для DS, в которых в качестве ключевого навыка указан SQL или postgres?\n",
        "\n",
        "** Критерии для отнесения вакансии к DS указаны в предыдущем задании.*"
      ]
    },
    {
      "cell_type": "code",
      "execution_count": 238,
      "id": "69621713-0cc5-4f1b-a1d7-bb144fa6148c",
      "metadata": {
        "id": "69621713-0cc5-4f1b-a1d7-bb144fa6148c"
      },
      "outputs": [],
      "source": [
        "# текст запроса\n",
        "query_6_3 = f'''SELECT count(*)\n",
        "                FROM vacancies\n",
        "                WHERE (\n",
        "                LOWER(name) LIKE '%data scientist%' OR\n",
        "                LOWER(name) LIKE '%data science%' OR\n",
        "                LOWER(name) LIKE '%исследователь данных%' OR\n",
        "                LOWER(name) LIKE '%ml%' OR\n",
        "                LOWER(name) LIKE '%machine learning%' OR\n",
        "                LOWER(name) LIKE '%машинн%обучен%'\n",
        "                )\n",
        "                AND LOWER(name) NOT LIKE '%html%'\n",
        "                AND (LOWER(key_skills) LIKE '%sql%' or LOWER(key_skills) LIKE '%postgres%')                \n",
        "                '''"
      ]
    },
    {
      "cell_type": "code",
      "execution_count": 239,
      "id": "alA8WEAAvGdf",
      "metadata": {
        "id": "alA8WEAAvGdf"
      },
      "outputs": [
        {
          "data": {
            "text/html": [
              "<div>\n",
              "<style scoped>\n",
              "    .dataframe tbody tr th:only-of-type {\n",
              "        vertical-align: middle;\n",
              "    }\n",
              "\n",
              "    .dataframe tbody tr th {\n",
              "        vertical-align: top;\n",
              "    }\n",
              "\n",
              "    .dataframe thead th {\n",
              "        text-align: right;\n",
              "    }\n",
              "</style>\n",
              "<table border=\"1\" class=\"dataframe\">\n",
              "  <thead>\n",
              "    <tr style=\"text-align: right;\">\n",
              "      <th></th>\n",
              "      <th>count</th>\n",
              "    </tr>\n",
              "  </thead>\n",
              "  <tbody>\n",
              "    <tr>\n",
              "      <th>0</th>\n",
              "      <td>229</td>\n",
              "    </tr>\n",
              "  </tbody>\n",
              "</table>\n",
              "</div>"
            ],
            "text/plain": [
              "   count\n",
              "0    229"
            ]
          },
          "execution_count": 239,
          "metadata": {},
          "output_type": "execute_result"
        }
      ],
      "source": [
        "# результат запроса\n",
        "df_6_3 = pd.read_sql_query(query_6_3, connection)\n",
        "df_6_3"
      ]
    },
    {
      "cell_type": "markdown",
      "id": "1be1e9c6-37cf-4a5f-bfeb-04cab799dc80",
      "metadata": {
        "id": "1be1e9c6-37cf-4a5f-bfeb-04cab799dc80"
      },
      "source": [
        "4. Проверьте, насколько популярен Python в требованиях работодателей к DS.Для этого вычислите количество вакансий, в которых в качестве ключевого навыка указан Python.\n",
        "\n",
        "** Это можно сделать помощью запроса, аналогичного предыдущему.*"
      ]
    },
    {
      "cell_type": "code",
      "execution_count": 240,
      "id": "0036a355-9ccf-4564-8b01-73d8194297e7",
      "metadata": {
        "id": "0036a355-9ccf-4564-8b01-73d8194297e7"
      },
      "outputs": [],
      "source": [
        "# текст запроса\n",
        "query_6_4 = f'''SELECT count(*)\n",
        "                FROM vacancies\n",
        "                WHERE (\n",
        "                LOWER(name) LIKE '%data scientist%' OR\n",
        "                LOWER(name) LIKE '%data science%' OR\n",
        "                LOWER(name) LIKE '%исследователь данных%' OR\n",
        "                LOWER(name) LIKE '%ml%' OR\n",
        "                LOWER(name) LIKE '%machine learning%' OR\n",
        "                LOWER(name) LIKE '%машинн%обучен%'\n",
        "                )\n",
        "                AND LOWER(name) NOT LIKE '%html%'\n",
        "                AND LOWER(key_skills) LIKE '%python%'               \n",
        "                '''"
      ]
    },
    {
      "cell_type": "code",
      "execution_count": 241,
      "id": "1i-5WyucvQ6v",
      "metadata": {
        "id": "1i-5WyucvQ6v"
      },
      "outputs": [
        {
          "data": {
            "text/html": [
              "<div>\n",
              "<style scoped>\n",
              "    .dataframe tbody tr th:only-of-type {\n",
              "        vertical-align: middle;\n",
              "    }\n",
              "\n",
              "    .dataframe tbody tr th {\n",
              "        vertical-align: top;\n",
              "    }\n",
              "\n",
              "    .dataframe thead th {\n",
              "        text-align: right;\n",
              "    }\n",
              "</style>\n",
              "<table border=\"1\" class=\"dataframe\">\n",
              "  <thead>\n",
              "    <tr style=\"text-align: right;\">\n",
              "      <th></th>\n",
              "      <th>count</th>\n",
              "    </tr>\n",
              "  </thead>\n",
              "  <tbody>\n",
              "    <tr>\n",
              "      <th>0</th>\n",
              "      <td>357</td>\n",
              "    </tr>\n",
              "  </tbody>\n",
              "</table>\n",
              "</div>"
            ],
            "text/plain": [
              "   count\n",
              "0    357"
            ]
          },
          "execution_count": 241,
          "metadata": {},
          "output_type": "execute_result"
        }
      ],
      "source": [
        "# результат запроса\n",
        "df_6_4 = pd.read_sql(query_6_4, connection)\n",
        "df_6_4"
      ]
    },
    {
      "cell_type": "markdown",
      "id": "ec3c8db7-fa21-4a41-a994-1af63742a642",
      "metadata": {
        "id": "ec3c8db7-fa21-4a41-a994-1af63742a642"
      },
      "source": [
        "5. Сколько ключевых навыков в среднем указывают в вакансиях для DS?\n",
        "Ответ округлите до двух знаков после точки-разделителя."
      ]
    },
    {
      "cell_type": "code",
      "execution_count": 242,
      "id": "949132bc-d5b6-4611-8218-0b9a504d74f4",
      "metadata": {
        "id": "949132bc-d5b6-4611-8218-0b9a504d74f4"
      },
      "outputs": [],
      "source": [
        "# текст запроса\n",
        "query_6_5 = f'''SELECT AVG(length(key_skills) - length(replace(key_skills, CHR(9), '')) + 1) \n",
        "                FROM vacancies\n",
        "                WHERE key_skills IS NOT NULL AND key_skills <> ''  AND\n",
        "                (LOWER(name) LIKE '%data scientist%' OR\n",
        "                LOWER(name) LIKE '%data science%' OR\n",
        "                LOWER(name) LIKE '%исследователь данных%' OR\n",
        "                name LIKE '%ML%' OR\n",
        "                LOWER(name) LIKE '%machine learning%' OR\n",
        "                LOWER(name) LIKE '%машинн%обучен%'\n",
        "                )\n",
        "                AND LOWER(name) NOT LIKE '%html%'\n",
        "                    \n",
        "                '''"
      ]
    },
    {
      "cell_type": "code",
      "execution_count": 243,
      "id": "a3V24Tvmviqk",
      "metadata": {
        "id": "a3V24Tvmviqk"
      },
      "outputs": [
        {
          "data": {
            "text/html": [
              "<div>\n",
              "<style scoped>\n",
              "    .dataframe tbody tr th:only-of-type {\n",
              "        vertical-align: middle;\n",
              "    }\n",
              "\n",
              "    .dataframe tbody tr th {\n",
              "        vertical-align: top;\n",
              "    }\n",
              "\n",
              "    .dataframe thead th {\n",
              "        text-align: right;\n",
              "    }\n",
              "</style>\n",
              "<table border=\"1\" class=\"dataframe\">\n",
              "  <thead>\n",
              "    <tr style=\"text-align: right;\">\n",
              "      <th></th>\n",
              "      <th>avg</th>\n",
              "    </tr>\n",
              "  </thead>\n",
              "  <tbody>\n",
              "    <tr>\n",
              "      <th>0</th>\n",
              "      <td>6.406032</td>\n",
              "    </tr>\n",
              "  </tbody>\n",
              "</table>\n",
              "</div>"
            ],
            "text/plain": [
              "        avg\n",
              "0  6.406032"
            ]
          },
          "execution_count": 243,
          "metadata": {},
          "output_type": "execute_result"
        }
      ],
      "source": [
        "# результат запроса\n",
        "df_6_5 = pd.read_sql(query_6_5, connection)\n",
        "df_6_5\n",
        "# df_6_5.to_excel('fff.xlsx')"
      ]
    },
    {
      "cell_type": "markdown",
      "id": "1041c17a-ca8f-4543-a0ca-32778914fb00",
      "metadata": {
        "id": "1041c17a-ca8f-4543-a0ca-32778914fb00"
      },
      "source": [
        "6. Напишите запрос, позволяющий вычислить, какую зарплату для DS в **среднем** указывают для каждого типа требуемого опыта (уникальное значение из поля *experience*). \n",
        "\n",
        "При решении задачи примите во внимание следующее:\n",
        "1. Рассматриваем только вакансии, у которых заполнено хотя бы одно из двух полей с зарплатой.\n",
        "2. Если заполнены оба поля с зарплатой, то считаем зарплату по каждой вакансии как сумму двух полей, делённую на 2. Если заполнено только одно из полей, то его и считаем зарплатой по вакансии.\n",
        "3. Если в расчётах участвует null, в результате он тоже даст null (посмотрите, что возвращает запрос select 1 + null). Чтобы избежать этой ситуацию, мы воспользуемся функцией [coalesce](https://postgrespro.ru/docs/postgresql/9.5/functions-conditional#functions-coalesce-nvl-ifnull), которая заменит null на значение, которое мы передадим. Например, посмотрите, что возвращает запрос `select 1 + coalesce(null, 0)`\n",
        "\n",
        "Выясните, на какую зарплату в среднем может рассчитывать дата-сайентист с опытом работы от 3 до 6 лет. Результат округлите до целого числа. "
      ]
    },
    {
      "cell_type": "code",
      "execution_count": 244,
      "id": "6a743d39-5204-48d3-8271-b9f88e68d40e",
      "metadata": {
        "id": "6a743d39-5204-48d3-8271-b9f88e68d40e"
      },
      "outputs": [],
      "source": [
        "# текст запроса\n",
        "query_6_6 = f'''SELECT experience, AVG(\n",
        "                CASE\n",
        "                    WHEN salary_from IS NOT NULL AND salary_to IS NOT NULL THEN (salary_from + salary_to) / 2\n",
        "                    WHEN salary_from IS NOT NULL THEN salary_from ELSE salary_to END) AS avg_salary\n",
        "                FROM vacancies\n",
        "                WHERE key_skills IS NOT NULL AND key_skills <> ''  AND\n",
        "                (LOWER(name) LIKE '%data scientist%' OR\n",
        "                LOWER(name) LIKE '%data science%' OR\n",
        "                LOWER(name) LIKE '%исследователь данных%' OR\n",
        "                name LIKE '%ML%' OR\n",
        "                LOWER(name) LIKE '%machine learning%' OR\n",
        "                LOWER(name) LIKE '%машинн%обучен%'\n",
        "                )\n",
        "                AND LOWER(name) NOT LIKE '%html%'\n",
        "                group by experience               \n",
        "                    \n",
        "                '''"
      ]
    },
    {
      "cell_type": "code",
      "execution_count": 245,
      "id": "aRIJ0mZEwU1_",
      "metadata": {
        "id": "aRIJ0mZEwU1_"
      },
      "outputs": [
        {
          "data": {
            "text/html": [
              "<div>\n",
              "<style scoped>\n",
              "    .dataframe tbody tr th:only-of-type {\n",
              "        vertical-align: middle;\n",
              "    }\n",
              "\n",
              "    .dataframe tbody tr th {\n",
              "        vertical-align: top;\n",
              "    }\n",
              "\n",
              "    .dataframe thead th {\n",
              "        text-align: right;\n",
              "    }\n",
              "</style>\n",
              "<table border=\"1\" class=\"dataframe\">\n",
              "  <thead>\n",
              "    <tr style=\"text-align: right;\">\n",
              "      <th></th>\n",
              "      <th>experience</th>\n",
              "      <th>avg_salary</th>\n",
              "    </tr>\n",
              "  </thead>\n",
              "  <tbody>\n",
              "    <tr>\n",
              "      <th>0</th>\n",
              "      <td>Более 6 лет</td>\n",
              "      <td>NaN</td>\n",
              "    </tr>\n",
              "    <tr>\n",
              "      <th>1</th>\n",
              "      <td>Нет опыта</td>\n",
              "      <td>74642.857143</td>\n",
              "    </tr>\n",
              "    <tr>\n",
              "      <th>2</th>\n",
              "      <td>От 1 года до 3 лет</td>\n",
              "      <td>146703.875000</td>\n",
              "    </tr>\n",
              "    <tr>\n",
              "      <th>3</th>\n",
              "      <td>От 3 до 6 лет</td>\n",
              "      <td>243114.666667</td>\n",
              "    </tr>\n",
              "  </tbody>\n",
              "</table>\n",
              "</div>"
            ],
            "text/plain": [
              "           experience     avg_salary\n",
              "0         Более 6 лет            NaN\n",
              "1           Нет опыта   74642.857143\n",
              "2  От 1 года до 3 лет  146703.875000\n",
              "3       От 3 до 6 лет  243114.666667"
            ]
          },
          "execution_count": 245,
          "metadata": {},
          "output_type": "execute_result"
        }
      ],
      "source": [
        "# результат запроса\n",
        "df_6_6 = pd.read_sql(query_6_6, connection)\n",
        "df_6_6"
      ]
    },
    {
      "cell_type": "markdown",
      "id": "6a7892b4-4113-4746-adce-18aa2844f18e",
      "metadata": {
        "id": "6a7892b4-4113-4746-adce-18aa2844f18e"
      },
      "source": [
        "***"
      ]
    },
    {
      "cell_type": "markdown",
      "id": "UjLWUptVwY1o",
      "metadata": {
        "id": "UjLWUptVwY1o"
      },
      "source": [
        "В большинстве случаев Data Scientist (DS)  должен владеть знаниями баз данных и уметь писать запросы на SQL.\n",
        "Язык Python является наиболее популярным и распространённым в DS и ML, но не единственным.\n",
        "Data Science — сложная и междисциплинарная специальность, которая в среднем требует владения более чем 6 ключевыми навыками.\n",
        "Зарплата существенно зависит от опыта специалиста. Средние зарплаты DS стремительно растут с опытом.\n",
        "Точных данных по специалистам с опытом более 6 лет в предоставленном датасете нет."
      ]
    },
    {
      "cell_type": "markdown",
      "id": "c0ED6fh7wiBT",
      "metadata": {
        "id": "c0ED6fh7wiBT"
      },
      "source": [
        "# Общий вывод по проекту"
      ]
    },
    {
      "cell_type": "markdown",
      "id": "cc87001f",
      "metadata": {},
      "source": [
        "дополнительный анализ и визуализация "
      ]
    },
    {
      "cell_type": "code",
      "execution_count": 246,
      "id": "9d4baab0",
      "metadata": {},
      "outputs": [],
      "source": [
        "# извлекаем данные из БД\n",
        "query_0_1 = f'''SELECT v.name as vacantion_name, v.schedule, v.experience, v.salary_from, v.salary_to, e.name as employer_name, a.name as area_name         \n",
        "                FROM vacancies as v\n",
        "                inner join employers as e on e.id = v.employer_id  \n",
        "                left join areas as a on a.id = v.area_id\n",
        "                    \n",
        "                '''"
      ]
    },
    {
      "cell_type": "code",
      "execution_count": 247,
      "id": "89541dfd",
      "metadata": {},
      "outputs": [
        {
          "data": {
            "text/html": [
              "<div>\n",
              "<style scoped>\n",
              "    .dataframe tbody tr th:only-of-type {\n",
              "        vertical-align: middle;\n",
              "    }\n",
              "\n",
              "    .dataframe tbody tr th {\n",
              "        vertical-align: top;\n",
              "    }\n",
              "\n",
              "    .dataframe thead th {\n",
              "        text-align: right;\n",
              "    }\n",
              "</style>\n",
              "<table border=\"1\" class=\"dataframe\">\n",
              "  <thead>\n",
              "    <tr style=\"text-align: right;\">\n",
              "      <th></th>\n",
              "      <th>vacantion_name</th>\n",
              "      <th>schedule</th>\n",
              "      <th>experience</th>\n",
              "      <th>salary_from</th>\n",
              "      <th>salary_to</th>\n",
              "      <th>employer_name</th>\n",
              "      <th>area_name</th>\n",
              "    </tr>\n",
              "  </thead>\n",
              "  <tbody>\n",
              "    <tr>\n",
              "      <th>0</th>\n",
              "      <td>Компьютерный Мастер</td>\n",
              "      <td>Полный день</td>\n",
              "      <td>Нет опыта</td>\n",
              "      <td>64000.0</td>\n",
              "      <td>NaN</td>\n",
              "      <td>Спецремонт</td>\n",
              "      <td>Камышин</td>\n",
              "    </tr>\n",
              "    <tr>\n",
              "      <th>1</th>\n",
              "      <td>Системный администратор</td>\n",
              "      <td>Полный день</td>\n",
              "      <td>От 3 до 6 лет</td>\n",
              "      <td>NaN</td>\n",
              "      <td>NaN</td>\n",
              "      <td>Диалог Регионы</td>\n",
              "      <td>Севастополь</td>\n",
              "    </tr>\n",
              "    <tr>\n",
              "      <th>2</th>\n",
              "      <td>Lead Java Developer to Poland</td>\n",
              "      <td>Удаленная работа</td>\n",
              "      <td>От 3 до 6 лет</td>\n",
              "      <td>NaN</td>\n",
              "      <td>NaN</td>\n",
              "      <td>DataArt</td>\n",
              "      <td>Алматы</td>\n",
              "    </tr>\n",
              "    <tr>\n",
              "      <th>3</th>\n",
              "      <td>Lead Java Developer to Poland</td>\n",
              "      <td>Удаленная работа</td>\n",
              "      <td>От 3 до 6 лет</td>\n",
              "      <td>NaN</td>\n",
              "      <td>NaN</td>\n",
              "      <td>DataArt</td>\n",
              "      <td>Нур-Султан</td>\n",
              "    </tr>\n",
              "    <tr>\n",
              "      <th>4</th>\n",
              "      <td>Специалист службы поддержки с техническими зна...</td>\n",
              "      <td>Удаленная работа</td>\n",
              "      <td>Нет опыта</td>\n",
              "      <td>15000.0</td>\n",
              "      <td>NaN</td>\n",
              "      <td>Яндекс</td>\n",
              "      <td>Находка</td>\n",
              "    </tr>\n",
              "  </tbody>\n",
              "</table>\n",
              "</div>"
            ],
            "text/plain": [
              "                                      vacantion_name          schedule  \\\n",
              "0                                Компьютерный Мастер       Полный день   \n",
              "1                            Системный администратор       Полный день   \n",
              "2                      Lead Java Developer to Poland  Удаленная работа   \n",
              "3                      Lead Java Developer to Poland  Удаленная работа   \n",
              "4  Специалист службы поддержки с техническими зна...  Удаленная работа   \n",
              "\n",
              "      experience  salary_from  salary_to   employer_name    area_name  \n",
              "0      Нет опыта      64000.0        NaN      Спецремонт      Камышин  \n",
              "1  От 3 до 6 лет          NaN        NaN  Диалог Регионы  Севастополь  \n",
              "2  От 3 до 6 лет          NaN        NaN         DataArt       Алматы  \n",
              "3  От 3 до 6 лет          NaN        NaN         DataArt   Нур-Султан  \n",
              "4      Нет опыта      15000.0        NaN          Яндекс      Находка  "
            ]
          },
          "execution_count": 247,
          "metadata": {},
          "output_type": "execute_result"
        }
      ],
      "source": [
        "# конвертируем данные из БД датафрейм\n",
        "df_0_1 = pd.read_sql_query(query_0_1, connection)\n",
        "\n",
        "\n",
        "df_0_1.head()"
      ]
    },
    {
      "cell_type": "code",
      "execution_count": 248,
      "id": "fc5773e1",
      "metadata": {},
      "outputs": [
        {
          "data": {
            "text/plain": [
              "'Изначально было 769 уникальных значения региона, после отсечки по граничному значению 1.0% редко встречающиеся регионы отнесены к категории other, после операции осталось 24 уникальных значения'"
            ]
          },
          "metadata": {},
          "output_type": "display_data"
        }
      ],
      "source": [
        "# минимизируем кол-во категорий в столбце регион по граничному значению в 1% от общего кол-ва вакансий\n",
        "region_trashhold = 0.01\n",
        "\n",
        "\n",
        "region_unique = df_0_1['area_name'].value_counts(normalize=True)\n",
        "\n",
        "\n",
        "df_0_1['area_name_filtered'] = df_0_1['area_name'].apply(\n",
        "\n",
        "\n",
        "\n",
        "\n",
        "\n",
        "\n",
        "\n",
        "\n",
        "    lambda x: 'other' if region_unique[x] < region_trashhold else x)\n",
        "\n",
        "\n",
        "display(f\"Изначально было {df_0_1['area_name'].nunique()} уникальных значения региона, после отсечки по граничному значению {region_trashhold*100}% редко встречающиеся регионы отнесены к категории other, после операции осталось {df_0_1['area_name_filtered'].nunique()} уникальных значения\")"
      ]
    },
    {
      "cell_type": "markdown",
      "id": "d06d7036",
      "metadata": {},
      "source": [
        "визуализация"
      ]
    },
    {
      "cell_type": "code",
      "execution_count": 249,
      "id": "60611df0",
      "metadata": {},
      "outputs": [
        {
          "data": {
            "application/vnd.plotly.v1+json": {
              "config": {
                "plotlyServerURL": "https://plot.ly"
              },
              "data": [
                {
                  "alignmentgroup": "True",
                  "hovertemplate": "variable=salary_from<br>area_name_filtered=%{x}<br>value=%{y}<extra></extra>",
                  "legendgroup": "salary_from",
                  "marker": {
                    "color": "#636efa",
                    "pattern": {
                      "shape": ""
                    }
                  },
                  "name": "salary_from",
                  "offsetgroup": "salary_from",
                  "orientation": "v",
                  "showlegend": true,
                  "textposition": "auto",
                  "type": "bar",
                  "x": [
                    "Москва",
                    "Санкт-Петербург",
                    "Новосибирск",
                    "Томск",
                    "Пермь",
                    "Владивосток",
                    "Краснодар",
                    "Екатеринбург",
                    "Ростов-на-Дону",
                    "Челябинск",
                    "Нижний Новгород",
                    "Тюмень",
                    "Казань",
                    "Омск",
                    "Красноярск",
                    "Воронеж",
                    "Самара",
                    "Уфа",
                    "Минск",
                    "other",
                    "Саратов",
                    "Ташкент",
                    "Нур-Султан",
                    "Алматы"
                  ],
                  "xaxis": "x",
                  "y": {
                    "bdata": "AAAAAABq+EAAAAAAABfxQAAAAAAAF/FAAAAAAAAX8UAAAAAAgH7vQAAAAACg9e1AAAAAAABM7UAAAAAAAEztQAAAAAAATO1AAAAAAABM7UAAAAAAAEztQAAAAADAOOtAAAAAAADb6kAAAAAAYBLpQAAAAAAAauhAAAAAAABq6EAAAAAAAGroQAAAAAAAauhAAAAAAODU5kAAAAAAAPnlQAAAAAAA+eVAAAAAAMAe4kAAAAAAwODhQAAAAAAwgOFA",
                    "dtype": "f8"
                  },
                  "yaxis": "y"
                },
                {
                  "alignmentgroup": "True",
                  "hovertemplate": "variable=salary_to<br>area_name_filtered=%{x}<br>value=%{y}<extra></extra>",
                  "legendgroup": "salary_to",
                  "marker": {
                    "color": "#EF553B",
                    "pattern": {
                      "shape": ""
                    }
                  },
                  "name": "salary_to",
                  "offsetgroup": "salary_to",
                  "orientation": "v",
                  "showlegend": true,
                  "textposition": "auto",
                  "type": "bar",
                  "x": [
                    "Москва",
                    "Санкт-Петербург",
                    "Новосибирск",
                    "Томск",
                    "Пермь",
                    "Владивосток",
                    "Краснодар",
                    "Екатеринбург",
                    "Ростов-на-Дону",
                    "Челябинск",
                    "Нижний Новгород",
                    "Тюмень",
                    "Казань",
                    "Омск",
                    "Красноярск",
                    "Воронеж",
                    "Самара",
                    "Уфа",
                    "Минск",
                    "other",
                    "Саратов",
                    "Ташкент",
                    "Нур-Султан",
                    "Алматы"
                  ],
                  "xaxis": "x",
                  "y": {
                    "bdata": "AAAAAAAXAUEAAAAAAGr4QAAAAACAovlAAAAAAADb+kAAAAAAAGr4QAAAAAAA+fVAAAAAAAD59UAAAAAAwM33QAAAAAAA+fVAAAAAAACI80AAAAAAAPn1QAAAAAAAiPNAAAAAAACI80AAAAAAAIjzQAAAAAAAF/FAAAAAAACI80AAAAAAABfxQAAAAAAAiPNAAAAAAPDT9kAAAAAAAL3vQAAAAAAAF/FAAAAAAIj58EAAAAAAAMztQAAAAACgOOpA",
                    "dtype": "f8"
                  },
                  "yaxis": "y"
                }
              ],
              "layout": {
                "barmode": "group",
                "legend": {
                  "title": {
                    "text": "variable"
                  },
                  "tracegroupgap": 0
                },
                "template": {
                  "data": {
                    "bar": [
                      {
                        "error_x": {
                          "color": "#2a3f5f"
                        },
                        "error_y": {
                          "color": "#2a3f5f"
                        },
                        "marker": {
                          "line": {
                            "color": "#E5ECF6",
                            "width": 0.5
                          },
                          "pattern": {
                            "fillmode": "overlay",
                            "size": 10,
                            "solidity": 0.2
                          }
                        },
                        "type": "bar"
                      }
                    ],
                    "barpolar": [
                      {
                        "marker": {
                          "line": {
                            "color": "#E5ECF6",
                            "width": 0.5
                          },
                          "pattern": {
                            "fillmode": "overlay",
                            "size": 10,
                            "solidity": 0.2
                          }
                        },
                        "type": "barpolar"
                      }
                    ],
                    "carpet": [
                      {
                        "aaxis": {
                          "endlinecolor": "#2a3f5f",
                          "gridcolor": "white",
                          "linecolor": "white",
                          "minorgridcolor": "white",
                          "startlinecolor": "#2a3f5f"
                        },
                        "baxis": {
                          "endlinecolor": "#2a3f5f",
                          "gridcolor": "white",
                          "linecolor": "white",
                          "minorgridcolor": "white",
                          "startlinecolor": "#2a3f5f"
                        },
                        "type": "carpet"
                      }
                    ],
                    "choropleth": [
                      {
                        "colorbar": {
                          "outlinewidth": 0,
                          "ticks": ""
                        },
                        "type": "choropleth"
                      }
                    ],
                    "contour": [
                      {
                        "colorbar": {
                          "outlinewidth": 0,
                          "ticks": ""
                        },
                        "colorscale": [
                          [
                            0,
                            "#0d0887"
                          ],
                          [
                            0.1111111111111111,
                            "#46039f"
                          ],
                          [
                            0.2222222222222222,
                            "#7201a8"
                          ],
                          [
                            0.3333333333333333,
                            "#9c179e"
                          ],
                          [
                            0.4444444444444444,
                            "#bd3786"
                          ],
                          [
                            0.5555555555555556,
                            "#d8576b"
                          ],
                          [
                            0.6666666666666666,
                            "#ed7953"
                          ],
                          [
                            0.7777777777777778,
                            "#fb9f3a"
                          ],
                          [
                            0.8888888888888888,
                            "#fdca26"
                          ],
                          [
                            1,
                            "#f0f921"
                          ]
                        ],
                        "type": "contour"
                      }
                    ],
                    "contourcarpet": [
                      {
                        "colorbar": {
                          "outlinewidth": 0,
                          "ticks": ""
                        },
                        "type": "contourcarpet"
                      }
                    ],
                    "heatmap": [
                      {
                        "colorbar": {
                          "outlinewidth": 0,
                          "ticks": ""
                        },
                        "colorscale": [
                          [
                            0,
                            "#0d0887"
                          ],
                          [
                            0.1111111111111111,
                            "#46039f"
                          ],
                          [
                            0.2222222222222222,
                            "#7201a8"
                          ],
                          [
                            0.3333333333333333,
                            "#9c179e"
                          ],
                          [
                            0.4444444444444444,
                            "#bd3786"
                          ],
                          [
                            0.5555555555555556,
                            "#d8576b"
                          ],
                          [
                            0.6666666666666666,
                            "#ed7953"
                          ],
                          [
                            0.7777777777777778,
                            "#fb9f3a"
                          ],
                          [
                            0.8888888888888888,
                            "#fdca26"
                          ],
                          [
                            1,
                            "#f0f921"
                          ]
                        ],
                        "type": "heatmap"
                      }
                    ],
                    "histogram": [
                      {
                        "marker": {
                          "pattern": {
                            "fillmode": "overlay",
                            "size": 10,
                            "solidity": 0.2
                          }
                        },
                        "type": "histogram"
                      }
                    ],
                    "histogram2d": [
                      {
                        "colorbar": {
                          "outlinewidth": 0,
                          "ticks": ""
                        },
                        "colorscale": [
                          [
                            0,
                            "#0d0887"
                          ],
                          [
                            0.1111111111111111,
                            "#46039f"
                          ],
                          [
                            0.2222222222222222,
                            "#7201a8"
                          ],
                          [
                            0.3333333333333333,
                            "#9c179e"
                          ],
                          [
                            0.4444444444444444,
                            "#bd3786"
                          ],
                          [
                            0.5555555555555556,
                            "#d8576b"
                          ],
                          [
                            0.6666666666666666,
                            "#ed7953"
                          ],
                          [
                            0.7777777777777778,
                            "#fb9f3a"
                          ],
                          [
                            0.8888888888888888,
                            "#fdca26"
                          ],
                          [
                            1,
                            "#f0f921"
                          ]
                        ],
                        "type": "histogram2d"
                      }
                    ],
                    "histogram2dcontour": [
                      {
                        "colorbar": {
                          "outlinewidth": 0,
                          "ticks": ""
                        },
                        "colorscale": [
                          [
                            0,
                            "#0d0887"
                          ],
                          [
                            0.1111111111111111,
                            "#46039f"
                          ],
                          [
                            0.2222222222222222,
                            "#7201a8"
                          ],
                          [
                            0.3333333333333333,
                            "#9c179e"
                          ],
                          [
                            0.4444444444444444,
                            "#bd3786"
                          ],
                          [
                            0.5555555555555556,
                            "#d8576b"
                          ],
                          [
                            0.6666666666666666,
                            "#ed7953"
                          ],
                          [
                            0.7777777777777778,
                            "#fb9f3a"
                          ],
                          [
                            0.8888888888888888,
                            "#fdca26"
                          ],
                          [
                            1,
                            "#f0f921"
                          ]
                        ],
                        "type": "histogram2dcontour"
                      }
                    ],
                    "mesh3d": [
                      {
                        "colorbar": {
                          "outlinewidth": 0,
                          "ticks": ""
                        },
                        "type": "mesh3d"
                      }
                    ],
                    "parcoords": [
                      {
                        "line": {
                          "colorbar": {
                            "outlinewidth": 0,
                            "ticks": ""
                          }
                        },
                        "type": "parcoords"
                      }
                    ],
                    "pie": [
                      {
                        "automargin": true,
                        "type": "pie"
                      }
                    ],
                    "scatter": [
                      {
                        "fillpattern": {
                          "fillmode": "overlay",
                          "size": 10,
                          "solidity": 0.2
                        },
                        "type": "scatter"
                      }
                    ],
                    "scatter3d": [
                      {
                        "line": {
                          "colorbar": {
                            "outlinewidth": 0,
                            "ticks": ""
                          }
                        },
                        "marker": {
                          "colorbar": {
                            "outlinewidth": 0,
                            "ticks": ""
                          }
                        },
                        "type": "scatter3d"
                      }
                    ],
                    "scattercarpet": [
                      {
                        "marker": {
                          "colorbar": {
                            "outlinewidth": 0,
                            "ticks": ""
                          }
                        },
                        "type": "scattercarpet"
                      }
                    ],
                    "scattergeo": [
                      {
                        "marker": {
                          "colorbar": {
                            "outlinewidth": 0,
                            "ticks": ""
                          }
                        },
                        "type": "scattergeo"
                      }
                    ],
                    "scattergl": [
                      {
                        "marker": {
                          "colorbar": {
                            "outlinewidth": 0,
                            "ticks": ""
                          }
                        },
                        "type": "scattergl"
                      }
                    ],
                    "scattermap": [
                      {
                        "marker": {
                          "colorbar": {
                            "outlinewidth": 0,
                            "ticks": ""
                          }
                        },
                        "type": "scattermap"
                      }
                    ],
                    "scattermapbox": [
                      {
                        "marker": {
                          "colorbar": {
                            "outlinewidth": 0,
                            "ticks": ""
                          }
                        },
                        "type": "scattermapbox"
                      }
                    ],
                    "scatterpolar": [
                      {
                        "marker": {
                          "colorbar": {
                            "outlinewidth": 0,
                            "ticks": ""
                          }
                        },
                        "type": "scatterpolar"
                      }
                    ],
                    "scatterpolargl": [
                      {
                        "marker": {
                          "colorbar": {
                            "outlinewidth": 0,
                            "ticks": ""
                          }
                        },
                        "type": "scatterpolargl"
                      }
                    ],
                    "scatterternary": [
                      {
                        "marker": {
                          "colorbar": {
                            "outlinewidth": 0,
                            "ticks": ""
                          }
                        },
                        "type": "scatterternary"
                      }
                    ],
                    "surface": [
                      {
                        "colorbar": {
                          "outlinewidth": 0,
                          "ticks": ""
                        },
                        "colorscale": [
                          [
                            0,
                            "#0d0887"
                          ],
                          [
                            0.1111111111111111,
                            "#46039f"
                          ],
                          [
                            0.2222222222222222,
                            "#7201a8"
                          ],
                          [
                            0.3333333333333333,
                            "#9c179e"
                          ],
                          [
                            0.4444444444444444,
                            "#bd3786"
                          ],
                          [
                            0.5555555555555556,
                            "#d8576b"
                          ],
                          [
                            0.6666666666666666,
                            "#ed7953"
                          ],
                          [
                            0.7777777777777778,
                            "#fb9f3a"
                          ],
                          [
                            0.8888888888888888,
                            "#fdca26"
                          ],
                          [
                            1,
                            "#f0f921"
                          ]
                        ],
                        "type": "surface"
                      }
                    ],
                    "table": [
                      {
                        "cells": {
                          "fill": {
                            "color": "#EBF0F8"
                          },
                          "line": {
                            "color": "white"
                          }
                        },
                        "header": {
                          "fill": {
                            "color": "#C8D4E3"
                          },
                          "line": {
                            "color": "white"
                          }
                        },
                        "type": "table"
                      }
                    ]
                  },
                  "layout": {
                    "annotationdefaults": {
                      "arrowcolor": "#2a3f5f",
                      "arrowhead": 0,
                      "arrowwidth": 1
                    },
                    "autotypenumbers": "strict",
                    "coloraxis": {
                      "colorbar": {
                        "outlinewidth": 0,
                        "ticks": ""
                      }
                    },
                    "colorscale": {
                      "diverging": [
                        [
                          0,
                          "#8e0152"
                        ],
                        [
                          0.1,
                          "#c51b7d"
                        ],
                        [
                          0.2,
                          "#de77ae"
                        ],
                        [
                          0.3,
                          "#f1b6da"
                        ],
                        [
                          0.4,
                          "#fde0ef"
                        ],
                        [
                          0.5,
                          "#f7f7f7"
                        ],
                        [
                          0.6,
                          "#e6f5d0"
                        ],
                        [
                          0.7,
                          "#b8e186"
                        ],
                        [
                          0.8,
                          "#7fbc41"
                        ],
                        [
                          0.9,
                          "#4d9221"
                        ],
                        [
                          1,
                          "#276419"
                        ]
                      ],
                      "sequential": [
                        [
                          0,
                          "#0d0887"
                        ],
                        [
                          0.1111111111111111,
                          "#46039f"
                        ],
                        [
                          0.2222222222222222,
                          "#7201a8"
                        ],
                        [
                          0.3333333333333333,
                          "#9c179e"
                        ],
                        [
                          0.4444444444444444,
                          "#bd3786"
                        ],
                        [
                          0.5555555555555556,
                          "#d8576b"
                        ],
                        [
                          0.6666666666666666,
                          "#ed7953"
                        ],
                        [
                          0.7777777777777778,
                          "#fb9f3a"
                        ],
                        [
                          0.8888888888888888,
                          "#fdca26"
                        ],
                        [
                          1,
                          "#f0f921"
                        ]
                      ],
                      "sequentialminus": [
                        [
                          0,
                          "#0d0887"
                        ],
                        [
                          0.1111111111111111,
                          "#46039f"
                        ],
                        [
                          0.2222222222222222,
                          "#7201a8"
                        ],
                        [
                          0.3333333333333333,
                          "#9c179e"
                        ],
                        [
                          0.4444444444444444,
                          "#bd3786"
                        ],
                        [
                          0.5555555555555556,
                          "#d8576b"
                        ],
                        [
                          0.6666666666666666,
                          "#ed7953"
                        ],
                        [
                          0.7777777777777778,
                          "#fb9f3a"
                        ],
                        [
                          0.8888888888888888,
                          "#fdca26"
                        ],
                        [
                          1,
                          "#f0f921"
                        ]
                      ]
                    },
                    "colorway": [
                      "#636efa",
                      "#EF553B",
                      "#00cc96",
                      "#ab63fa",
                      "#FFA15A",
                      "#19d3f3",
                      "#FF6692",
                      "#B6E880",
                      "#FF97FF",
                      "#FECB52"
                    ],
                    "font": {
                      "color": "#2a3f5f"
                    },
                    "geo": {
                      "bgcolor": "white",
                      "lakecolor": "white",
                      "landcolor": "#E5ECF6",
                      "showlakes": true,
                      "showland": true,
                      "subunitcolor": "white"
                    },
                    "hoverlabel": {
                      "align": "left"
                    },
                    "hovermode": "closest",
                    "mapbox": {
                      "style": "light"
                    },
                    "paper_bgcolor": "white",
                    "plot_bgcolor": "#E5ECF6",
                    "polar": {
                      "angularaxis": {
                        "gridcolor": "white",
                        "linecolor": "white",
                        "ticks": ""
                      },
                      "bgcolor": "#E5ECF6",
                      "radialaxis": {
                        "gridcolor": "white",
                        "linecolor": "white",
                        "ticks": ""
                      }
                    },
                    "scene": {
                      "xaxis": {
                        "backgroundcolor": "#E5ECF6",
                        "gridcolor": "white",
                        "gridwidth": 2,
                        "linecolor": "white",
                        "showbackground": true,
                        "ticks": "",
                        "zerolinecolor": "white"
                      },
                      "yaxis": {
                        "backgroundcolor": "#E5ECF6",
                        "gridcolor": "white",
                        "gridwidth": 2,
                        "linecolor": "white",
                        "showbackground": true,
                        "ticks": "",
                        "zerolinecolor": "white"
                      },
                      "zaxis": {
                        "backgroundcolor": "#E5ECF6",
                        "gridcolor": "white",
                        "gridwidth": 2,
                        "linecolor": "white",
                        "showbackground": true,
                        "ticks": "",
                        "zerolinecolor": "white"
                      }
                    },
                    "shapedefaults": {
                      "line": {
                        "color": "#2a3f5f"
                      }
                    },
                    "ternary": {
                      "aaxis": {
                        "gridcolor": "white",
                        "linecolor": "white",
                        "ticks": ""
                      },
                      "baxis": {
                        "gridcolor": "white",
                        "linecolor": "white",
                        "ticks": ""
                      },
                      "bgcolor": "#E5ECF6",
                      "caxis": {
                        "gridcolor": "white",
                        "linecolor": "white",
                        "ticks": ""
                      }
                    },
                    "title": {
                      "x": 0.05
                    },
                    "xaxis": {
                      "automargin": true,
                      "gridcolor": "white",
                      "linecolor": "white",
                      "ticks": "",
                      "title": {
                        "standoff": 15
                      },
                      "zerolinecolor": "white",
                      "zerolinewidth": 2
                    },
                    "yaxis": {
                      "automargin": true,
                      "gridcolor": "white",
                      "linecolor": "white",
                      "ticks": "",
                      "title": {
                        "standoff": 15
                      },
                      "zerolinecolor": "white",
                      "zerolinewidth": 2
                    }
                  }
                },
                "title": {
                  "text": "Столбчатая диаграмма по количеству вакансий в различных регионах"
                },
                "xaxis": {
                  "anchor": "y",
                  "domain": [
                    0,
                    1
                  ],
                  "title": {
                    "text": "area_name_filtered"
                  }
                },
                "yaxis": {
                  "anchor": "x",
                  "domain": [
                    0,
                    1
                  ],
                  "title": {
                    "text": "value"
                  }
                }
              }
            }
          },
          "metadata": {},
          "output_type": "display_data"
        }
      ],
      "source": [
        "df_count_regions_1 = df_0_1.groupby(by='area_name_filtered')[['salary_from', 'salary_to']].agg(\n",
        "    'median').sort_values(by='salary_from', ascending=False)\n",
        "bar = px.bar(data_frame=df_count_regions_1,\n",
        "             x=df_count_regions_1.index,\n",
        "             y=['salary_from', 'salary_to'],\n",
        "             barmode='group',\n",
        "             title='Столбчатая диаграмма по количеству вакансий в различных регионах',\n",
        "             labels={'x': 'Регион', 'y': 'Количество вакансий'}\n",
        "             )\n",
        "bar.show()"
      ]
    },
    {
      "cell_type": "markdown",
      "id": "3056b3b9",
      "metadata": {},
      "source": [
        "На графике видно, что около 35% от всего кол-ва вакансий - это небольшие регионы (other) с количеством вакансий менее 1 % в датасете. Остальные 65% - это крупные города, в первую очередь Москва и Санкт-Петербург. Наибольшие уровни ЗП предлагают в Москве, затем со значительным отставанием следует Санкт-Петербург, Новосибирск и другие крупные города. Наименьшие ЗП предлагают в городах Казахстана и Беларуси. Причем в Минске наибольший разрыв между верхней и нижней планкой ЗП."
      ]
    },
    {
      "cell_type": "code",
      "execution_count": 250,
      "id": "6c5a96c7",
      "metadata": {},
      "outputs": [
        {
          "data": {
            "application/vnd.plotly.v1+json": {
              "config": {
                "plotlyServerURL": "https://plot.ly"
              },
              "data": [
                {
                  "bingroup": "x",
                  "histnorm": "probability density",
                  "hovertemplate": "diff_salary=%{x}<br>probability density=%{y}<extra></extra>",
                  "legendgroup": "",
                  "marker": {
                    "color": "#636efa",
                    "pattern": {
                      "shape": ""
                    }
                  },
                  "name": "",
                  "nbinsx": 20,
                  "orientation": "v",
                  "showlegend": false,
                  "type": "histogram",
                  "x": {
                    "bdata": "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",
                    "dtype": "f8"
                  },
                  "xaxis": "x",
                  "yaxis": "y"
                }
              ],
              "layout": {
                "barmode": "relative",
                "legend": {
                  "tracegroupgap": 0
                },
                "template": {
                  "data": {
                    "bar": [
                      {
                        "error_x": {
                          "color": "#2a3f5f"
                        },
                        "error_y": {
                          "color": "#2a3f5f"
                        },
                        "marker": {
                          "line": {
                            "color": "#E5ECF6",
                            "width": 0.5
                          },
                          "pattern": {
                            "fillmode": "overlay",
                            "size": 10,
                            "solidity": 0.2
                          }
                        },
                        "type": "bar"
                      }
                    ],
                    "barpolar": [
                      {
                        "marker": {
                          "line": {
                            "color": "#E5ECF6",
                            "width": 0.5
                          },
                          "pattern": {
                            "fillmode": "overlay",
                            "size": 10,
                            "solidity": 0.2
                          }
                        },
                        "type": "barpolar"
                      }
                    ],
                    "carpet": [
                      {
                        "aaxis": {
                          "endlinecolor": "#2a3f5f",
                          "gridcolor": "white",
                          "linecolor": "white",
                          "minorgridcolor": "white",
                          "startlinecolor": "#2a3f5f"
                        },
                        "baxis": {
                          "endlinecolor": "#2a3f5f",
                          "gridcolor": "white",
                          "linecolor": "white",
                          "minorgridcolor": "white",
                          "startlinecolor": "#2a3f5f"
                        },
                        "type": "carpet"
                      }
                    ],
                    "choropleth": [
                      {
                        "colorbar": {
                          "outlinewidth": 0,
                          "ticks": ""
                        },
                        "type": "choropleth"
                      }
                    ],
                    "contour": [
                      {
                        "colorbar": {
                          "outlinewidth": 0,
                          "ticks": ""
                        },
                        "colorscale": [
                          [
                            0,
                            "#0d0887"
                          ],
                          [
                            0.1111111111111111,
                            "#46039f"
                          ],
                          [
                            0.2222222222222222,
                            "#7201a8"
                          ],
                          [
                            0.3333333333333333,
                            "#9c179e"
                          ],
                          [
                            0.4444444444444444,
                            "#bd3786"
                          ],
                          [
                            0.5555555555555556,
                            "#d8576b"
                          ],
                          [
                            0.6666666666666666,
                            "#ed7953"
                          ],
                          [
                            0.7777777777777778,
                            "#fb9f3a"
                          ],
                          [
                            0.8888888888888888,
                            "#fdca26"
                          ],
                          [
                            1,
                            "#f0f921"
                          ]
                        ],
                        "type": "contour"
                      }
                    ],
                    "contourcarpet": [
                      {
                        "colorbar": {
                          "outlinewidth": 0,
                          "ticks": ""
                        },
                        "type": "contourcarpet"
                      }
                    ],
                    "heatmap": [
                      {
                        "colorbar": {
                          "outlinewidth": 0,
                          "ticks": ""
                        },
                        "colorscale": [
                          [
                            0,
                            "#0d0887"
                          ],
                          [
                            0.1111111111111111,
                            "#46039f"
                          ],
                          [
                            0.2222222222222222,
                            "#7201a8"
                          ],
                          [
                            0.3333333333333333,
                            "#9c179e"
                          ],
                          [
                            0.4444444444444444,
                            "#bd3786"
                          ],
                          [
                            0.5555555555555556,
                            "#d8576b"
                          ],
                          [
                            0.6666666666666666,
                            "#ed7953"
                          ],
                          [
                            0.7777777777777778,
                            "#fb9f3a"
                          ],
                          [
                            0.8888888888888888,
                            "#fdca26"
                          ],
                          [
                            1,
                            "#f0f921"
                          ]
                        ],
                        "type": "heatmap"
                      }
                    ],
                    "histogram": [
                      {
                        "marker": {
                          "pattern": {
                            "fillmode": "overlay",
                            "size": 10,
                            "solidity": 0.2
                          }
                        },
                        "type": "histogram"
                      }
                    ],
                    "histogram2d": [
                      {
                        "colorbar": {
                          "outlinewidth": 0,
                          "ticks": ""
                        },
                        "colorscale": [
                          [
                            0,
                            "#0d0887"
                          ],
                          [
                            0.1111111111111111,
                            "#46039f"
                          ],
                          [
                            0.2222222222222222,
                            "#7201a8"
                          ],
                          [
                            0.3333333333333333,
                            "#9c179e"
                          ],
                          [
                            0.4444444444444444,
                            "#bd3786"
                          ],
                          [
                            0.5555555555555556,
                            "#d8576b"
                          ],
                          [
                            0.6666666666666666,
                            "#ed7953"
                          ],
                          [
                            0.7777777777777778,
                            "#fb9f3a"
                          ],
                          [
                            0.8888888888888888,
                            "#fdca26"
                          ],
                          [
                            1,
                            "#f0f921"
                          ]
                        ],
                        "type": "histogram2d"
                      }
                    ],
                    "histogram2dcontour": [
                      {
                        "colorbar": {
                          "outlinewidth": 0,
                          "ticks": ""
                        },
                        "colorscale": [
                          [
                            0,
                            "#0d0887"
                          ],
                          [
                            0.1111111111111111,
                            "#46039f"
                          ],
                          [
                            0.2222222222222222,
                            "#7201a8"
                          ],
                          [
                            0.3333333333333333,
                            "#9c179e"
                          ],
                          [
                            0.4444444444444444,
                            "#bd3786"
                          ],
                          [
                            0.5555555555555556,
                            "#d8576b"
                          ],
                          [
                            0.6666666666666666,
                            "#ed7953"
                          ],
                          [
                            0.7777777777777778,
                            "#fb9f3a"
                          ],
                          [
                            0.8888888888888888,
                            "#fdca26"
                          ],
                          [
                            1,
                            "#f0f921"
                          ]
                        ],
                        "type": "histogram2dcontour"
                      }
                    ],
                    "mesh3d": [
                      {
                        "colorbar": {
                          "outlinewidth": 0,
                          "ticks": ""
                        },
                        "type": "mesh3d"
                      }
                    ],
                    "parcoords": [
                      {
                        "line": {
                          "colorbar": {
                            "outlinewidth": 0,
                            "ticks": ""
                          }
                        },
                        "type": "parcoords"
                      }
                    ],
                    "pie": [
                      {
                        "automargin": true,
                        "type": "pie"
                      }
                    ],
                    "scatter": [
                      {
                        "fillpattern": {
                          "fillmode": "overlay",
                          "size": 10,
                          "solidity": 0.2
                        },
                        "type": "scatter"
                      }
                    ],
                    "scatter3d": [
                      {
                        "line": {
                          "colorbar": {
                            "outlinewidth": 0,
                            "ticks": ""
                          }
                        },
                        "marker": {
                          "colorbar": {
                            "outlinewidth": 0,
                            "ticks": ""
                          }
                        },
                        "type": "scatter3d"
                      }
                    ],
                    "scattercarpet": [
                      {
                        "marker": {
                          "colorbar": {
                            "outlinewidth": 0,
                            "ticks": ""
                          }
                        },
                        "type": "scattercarpet"
                      }
                    ],
                    "scattergeo": [
                      {
                        "marker": {
                          "colorbar": {
                            "outlinewidth": 0,
                            "ticks": ""
                          }
                        },
                        "type": "scattergeo"
                      }
                    ],
                    "scattergl": [
                      {
                        "marker": {
                          "colorbar": {
                            "outlinewidth": 0,
                            "ticks": ""
                          }
                        },
                        "type": "scattergl"
                      }
                    ],
                    "scattermap": [
                      {
                        "marker": {
                          "colorbar": {
                            "outlinewidth": 0,
                            "ticks": ""
                          }
                        },
                        "type": "scattermap"
                      }
                    ],
                    "scattermapbox": [
                      {
                        "marker": {
                          "colorbar": {
                            "outlinewidth": 0,
                            "ticks": ""
                          }
                        },
                        "type": "scattermapbox"
                      }
                    ],
                    "scatterpolar": [
                      {
                        "marker": {
                          "colorbar": {
                            "outlinewidth": 0,
                            "ticks": ""
                          }
                        },
                        "type": "scatterpolar"
                      }
                    ],
                    "scatterpolargl": [
                      {
                        "marker": {
                          "colorbar": {
                            "outlinewidth": 0,
                            "ticks": ""
                          }
                        },
                        "type": "scatterpolargl"
                      }
                    ],
                    "scatterternary": [
                      {
                        "marker": {
                          "colorbar": {
                            "outlinewidth": 0,
                            "ticks": ""
                          }
                        },
                        "type": "scatterternary"
                      }
                    ],
                    "surface": [
                      {
                        "colorbar": {
                          "outlinewidth": 0,
                          "ticks": ""
                        },
                        "colorscale": [
                          [
                            0,
                            "#0d0887"
                          ],
                          [
                            0.1111111111111111,
                            "#46039f"
                          ],
                          [
                            0.2222222222222222,
                            "#7201a8"
                          ],
                          [
                            0.3333333333333333,
                            "#9c179e"
                          ],
                          [
                            0.4444444444444444,
                            "#bd3786"
                          ],
                          [
                            0.5555555555555556,
                            "#d8576b"
                          ],
                          [
                            0.6666666666666666,
                            "#ed7953"
                          ],
                          [
                            0.7777777777777778,
                            "#fb9f3a"
                          ],
                          [
                            0.8888888888888888,
                            "#fdca26"
                          ],
                          [
                            1,
                            "#f0f921"
                          ]
                        ],
                        "type": "surface"
                      }
                    ],
                    "table": [
                      {
                        "cells": {
                          "fill": {
                            "color": "#EBF0F8"
                          },
                          "line": {
                            "color": "white"
                          }
                        },
                        "header": {
                          "fill": {
                            "color": "#C8D4E3"
                          },
                          "line": {
                            "color": "white"
                          }
                        },
                        "type": "table"
                      }
                    ]
                  },
                  "layout": {
                    "annotationdefaults": {
                      "arrowcolor": "#2a3f5f",
                      "arrowhead": 0,
                      "arrowwidth": 1
                    },
                    "autotypenumbers": "strict",
                    "coloraxis": {
                      "colorbar": {
                        "outlinewidth": 0,
                        "ticks": ""
                      }
                    },
                    "colorscale": {
                      "diverging": [
                        [
                          0,
                          "#8e0152"
                        ],
                        [
                          0.1,
                          "#c51b7d"
                        ],
                        [
                          0.2,
                          "#de77ae"
                        ],
                        [
                          0.3,
                          "#f1b6da"
                        ],
                        [
                          0.4,
                          "#fde0ef"
                        ],
                        [
                          0.5,
                          "#f7f7f7"
                        ],
                        [
                          0.6,
                          "#e6f5d0"
                        ],
                        [
                          0.7,
                          "#b8e186"
                        ],
                        [
                          0.8,
                          "#7fbc41"
                        ],
                        [
                          0.9,
                          "#4d9221"
                        ],
                        [
                          1,
                          "#276419"
                        ]
                      ],
                      "sequential": [
                        [
                          0,
                          "#0d0887"
                        ],
                        [
                          0.1111111111111111,
                          "#46039f"
                        ],
                        [
                          0.2222222222222222,
                          "#7201a8"
                        ],
                        [
                          0.3333333333333333,
                          "#9c179e"
                        ],
                        [
                          0.4444444444444444,
                          "#bd3786"
                        ],
                        [
                          0.5555555555555556,
                          "#d8576b"
                        ],
                        [
                          0.6666666666666666,
                          "#ed7953"
                        ],
                        [
                          0.7777777777777778,
                          "#fb9f3a"
                        ],
                        [
                          0.8888888888888888,
                          "#fdca26"
                        ],
                        [
                          1,
                          "#f0f921"
                        ]
                      ],
                      "sequentialminus": [
                        [
                          0,
                          "#0d0887"
                        ],
                        [
                          0.1111111111111111,
                          "#46039f"
                        ],
                        [
                          0.2222222222222222,
                          "#7201a8"
                        ],
                        [
                          0.3333333333333333,
                          "#9c179e"
                        ],
                        [
                          0.4444444444444444,
                          "#bd3786"
                        ],
                        [
                          0.5555555555555556,
                          "#d8576b"
                        ],
                        [
                          0.6666666666666666,
                          "#ed7953"
                        ],
                        [
                          0.7777777777777778,
                          "#fb9f3a"
                        ],
                        [
                          0.8888888888888888,
                          "#fdca26"
                        ],
                        [
                          1,
                          "#f0f921"
                        ]
                      ]
                    },
                    "colorway": [
                      "#636efa",
                      "#EF553B",
                      "#00cc96",
                      "#ab63fa",
                      "#FFA15A",
                      "#19d3f3",
                      "#FF6692",
                      "#B6E880",
                      "#FF97FF",
                      "#FECB52"
                    ],
                    "font": {
                      "color": "#2a3f5f"
                    },
                    "geo": {
                      "bgcolor": "white",
                      "lakecolor": "white",
                      "landcolor": "#E5ECF6",
                      "showlakes": true,
                      "showland": true,
                      "subunitcolor": "white"
                    },
                    "hoverlabel": {
                      "align": "left"
                    },
                    "hovermode": "closest",
                    "mapbox": {
                      "style": "light"
                    },
                    "paper_bgcolor": "white",
                    "plot_bgcolor": "#E5ECF6",
                    "polar": {
                      "angularaxis": {
                        "gridcolor": "white",
                        "linecolor": "white",
                        "ticks": ""
                      },
                      "bgcolor": "#E5ECF6",
                      "radialaxis": {
                        "gridcolor": "white",
                        "linecolor": "white",
                        "ticks": ""
                      }
                    },
                    "scene": {
                      "xaxis": {
                        "backgroundcolor": "#E5ECF6",
                        "gridcolor": "white",
                        "gridwidth": 2,
                        "linecolor": "white",
                        "showbackground": true,
                        "ticks": "",
                        "zerolinecolor": "white"
                      },
                      "yaxis": {
                        "backgroundcolor": "#E5ECF6",
                        "gridcolor": "white",
                        "gridwidth": 2,
                        "linecolor": "white",
                        "showbackground": true,
                        "ticks": "",
                        "zerolinecolor": "white"
                      },
                      "zaxis": {
                        "backgroundcolor": "#E5ECF6",
                        "gridcolor": "white",
                        "gridwidth": 2,
                        "linecolor": "white",
                        "showbackground": true,
                        "ticks": "",
                        "zerolinecolor": "white"
                      }
                    },
                    "shapedefaults": {
                      "line": {
                        "color": "#2a3f5f"
                      }
                    },
                    "ternary": {
                      "aaxis": {
                        "gridcolor": "white",
                        "linecolor": "white",
                        "ticks": ""
                      },
                      "baxis": {
                        "gridcolor": "white",
                        "linecolor": "white",
                        "ticks": ""
                      },
                      "bgcolor": "#E5ECF6",
                      "caxis": {
                        "gridcolor": "white",
                        "linecolor": "white",
                        "ticks": ""
                      }
                    },
                    "title": {
                      "x": 0.05
                    },
                    "xaxis": {
                      "automargin": true,
                      "gridcolor": "white",
                      "linecolor": "white",
                      "ticks": "",
                      "title": {
                        "standoff": 15
                      },
                      "zerolinecolor": "white",
                      "zerolinewidth": 2
                    },
                    "yaxis": {
                      "automargin": true,
                      "gridcolor": "white",
                      "linecolor": "white",
                      "ticks": "",
                      "title": {
                        "standoff": 15
                      },
                      "zerolinecolor": "white",
                      "zerolinewidth": 2
                    }
                  }
                },
                "title": {
                  "text": "Гистограмма разницы между начальным и возможным уровнем ЗП"
                },
                "xaxis": {
                  "anchor": "y",
                  "domain": [
                    0,
                    1
                  ],
                  "title": {
                    "text": "diff_salary"
                  }
                },
                "yaxis": {
                  "anchor": "x",
                  "domain": [
                    0,
                    1
                  ],
                  "title": {
                    "text": "probability density"
                  }
                }
              }
            }
          },
          "metadata": {},
          "output_type": "display_data"
        }
      ],
      "source": [
        "df_0_1['diff_salary'] = df_0_1['salary_to'] - df_0_1['salary_from']\n",
        "mask = df_0_1['diff_salary'] < 300000\n",
        "hist = px.histogram(data_frame=df_0_1[mask],\n",
        "                    x='diff_salary', nbins=20,\n",
        "                    histnorm='probability density',\n",
        "                    title='Гистограмма разницы между начальным и возможным уровнем ЗП'\n",
        "                    )\n",
        "hist.show()"
      ]
    },
    {
      "cell_type": "markdown",
      "id": "8105c009",
      "metadata": {},
      "source": [
        "Во многих вакансиях имеются данные как о минимильной ЗП, так и максимально возможной. Распределение разницы между верхней и нижней границами говорит о том, что в болшинсве случаев разница менее 50 тыс.р., но также имеются вакансии с разницей 100 и более тыс.р."
      ]
    },
    {
      "cell_type": "code",
      "execution_count": 251,
      "id": "8358b38c",
      "metadata": {},
      "outputs": [
        {
          "data": {
            "application/vnd.plotly.v1+json": {
              "config": {
                "plotlyServerURL": "https://plot.ly"
              },
              "data": [
                {
                  "alignmentgroup": "True",
                  "hovertemplate": "variable=salary_from<br>schedule=%{x}<br>value=%{y}<extra></extra>",
                  "legendgroup": "salary_from",
                  "marker": {
                    "color": "#636efa",
                    "pattern": {
                      "shape": ""
                    }
                  },
                  "name": "salary_from",
                  "offsetgroup": "salary_from",
                  "orientation": "v",
                  "showlegend": true,
                  "textposition": "auto",
                  "type": "bar",
                  "x": [
                    "Вахтовый метод",
                    "Гибкий график",
                    "Удаленная работа",
                    "Полный день",
                    "Сменный график"
                  ],
                  "xaxis": "x",
                  "y": {
                    "bdata": "AAAAAICi+UAAAAAAAL3vQAAAAACA+utAAAAAAABq6EAAAAAAAIjjQA==",
                    "dtype": "f8"
                  },
                  "yaxis": "y"
                },
                {
                  "alignmentgroup": "True",
                  "hovertemplate": "variable=salary_to<br>schedule=%{x}<br>value=%{y}<extra></extra>",
                  "legendgroup": "salary_to",
                  "marker": {
                    "color": "#EF553B",
                    "pattern": {
                      "shape": ""
                    }
                  },
                  "name": "salary_to",
                  "offsetgroup": "salary_to",
                  "orientation": "v",
                  "showlegend": true,
                  "textposition": "auto",
                  "type": "bar",
                  "x": [
                    "Вахтовый метод",
                    "Гибкий график",
                    "Удаленная работа",
                    "Полный день",
                    "Сменный график"
                  ],
                  "xaxis": "x",
                  "y": {
                    "bdata": "AAAAAACIA0EAAAAAAEz9QAAAAAAAvf9AAAAAAPAe8UAAAAAAAPnlQA==",
                    "dtype": "f8"
                  },
                  "yaxis": "y"
                }
              ],
              "layout": {
                "barmode": "group",
                "legend": {
                  "title": {
                    "text": "variable"
                  },
                  "tracegroupgap": 0
                },
                "template": {
                  "data": {
                    "bar": [
                      {
                        "error_x": {
                          "color": "#2a3f5f"
                        },
                        "error_y": {
                          "color": "#2a3f5f"
                        },
                        "marker": {
                          "line": {
                            "color": "#E5ECF6",
                            "width": 0.5
                          },
                          "pattern": {
                            "fillmode": "overlay",
                            "size": 10,
                            "solidity": 0.2
                          }
                        },
                        "type": "bar"
                      }
                    ],
                    "barpolar": [
                      {
                        "marker": {
                          "line": {
                            "color": "#E5ECF6",
                            "width": 0.5
                          },
                          "pattern": {
                            "fillmode": "overlay",
                            "size": 10,
                            "solidity": 0.2
                          }
                        },
                        "type": "barpolar"
                      }
                    ],
                    "carpet": [
                      {
                        "aaxis": {
                          "endlinecolor": "#2a3f5f",
                          "gridcolor": "white",
                          "linecolor": "white",
                          "minorgridcolor": "white",
                          "startlinecolor": "#2a3f5f"
                        },
                        "baxis": {
                          "endlinecolor": "#2a3f5f",
                          "gridcolor": "white",
                          "linecolor": "white",
                          "minorgridcolor": "white",
                          "startlinecolor": "#2a3f5f"
                        },
                        "type": "carpet"
                      }
                    ],
                    "choropleth": [
                      {
                        "colorbar": {
                          "outlinewidth": 0,
                          "ticks": ""
                        },
                        "type": "choropleth"
                      }
                    ],
                    "contour": [
                      {
                        "colorbar": {
                          "outlinewidth": 0,
                          "ticks": ""
                        },
                        "colorscale": [
                          [
                            0,
                            "#0d0887"
                          ],
                          [
                            0.1111111111111111,
                            "#46039f"
                          ],
                          [
                            0.2222222222222222,
                            "#7201a8"
                          ],
                          [
                            0.3333333333333333,
                            "#9c179e"
                          ],
                          [
                            0.4444444444444444,
                            "#bd3786"
                          ],
                          [
                            0.5555555555555556,
                            "#d8576b"
                          ],
                          [
                            0.6666666666666666,
                            "#ed7953"
                          ],
                          [
                            0.7777777777777778,
                            "#fb9f3a"
                          ],
                          [
                            0.8888888888888888,
                            "#fdca26"
                          ],
                          [
                            1,
                            "#f0f921"
                          ]
                        ],
                        "type": "contour"
                      }
                    ],
                    "contourcarpet": [
                      {
                        "colorbar": {
                          "outlinewidth": 0,
                          "ticks": ""
                        },
                        "type": "contourcarpet"
                      }
                    ],
                    "heatmap": [
                      {
                        "colorbar": {
                          "outlinewidth": 0,
                          "ticks": ""
                        },
                        "colorscale": [
                          [
                            0,
                            "#0d0887"
                          ],
                          [
                            0.1111111111111111,
                            "#46039f"
                          ],
                          [
                            0.2222222222222222,
                            "#7201a8"
                          ],
                          [
                            0.3333333333333333,
                            "#9c179e"
                          ],
                          [
                            0.4444444444444444,
                            "#bd3786"
                          ],
                          [
                            0.5555555555555556,
                            "#d8576b"
                          ],
                          [
                            0.6666666666666666,
                            "#ed7953"
                          ],
                          [
                            0.7777777777777778,
                            "#fb9f3a"
                          ],
                          [
                            0.8888888888888888,
                            "#fdca26"
                          ],
                          [
                            1,
                            "#f0f921"
                          ]
                        ],
                        "type": "heatmap"
                      }
                    ],
                    "histogram": [
                      {
                        "marker": {
                          "pattern": {
                            "fillmode": "overlay",
                            "size": 10,
                            "solidity": 0.2
                          }
                        },
                        "type": "histogram"
                      }
                    ],
                    "histogram2d": [
                      {
                        "colorbar": {
                          "outlinewidth": 0,
                          "ticks": ""
                        },
                        "colorscale": [
                          [
                            0,
                            "#0d0887"
                          ],
                          [
                            0.1111111111111111,
                            "#46039f"
                          ],
                          [
                            0.2222222222222222,
                            "#7201a8"
                          ],
                          [
                            0.3333333333333333,
                            "#9c179e"
                          ],
                          [
                            0.4444444444444444,
                            "#bd3786"
                          ],
                          [
                            0.5555555555555556,
                            "#d8576b"
                          ],
                          [
                            0.6666666666666666,
                            "#ed7953"
                          ],
                          [
                            0.7777777777777778,
                            "#fb9f3a"
                          ],
                          [
                            0.8888888888888888,
                            "#fdca26"
                          ],
                          [
                            1,
                            "#f0f921"
                          ]
                        ],
                        "type": "histogram2d"
                      }
                    ],
                    "histogram2dcontour": [
                      {
                        "colorbar": {
                          "outlinewidth": 0,
                          "ticks": ""
                        },
                        "colorscale": [
                          [
                            0,
                            "#0d0887"
                          ],
                          [
                            0.1111111111111111,
                            "#46039f"
                          ],
                          [
                            0.2222222222222222,
                            "#7201a8"
                          ],
                          [
                            0.3333333333333333,
                            "#9c179e"
                          ],
                          [
                            0.4444444444444444,
                            "#bd3786"
                          ],
                          [
                            0.5555555555555556,
                            "#d8576b"
                          ],
                          [
                            0.6666666666666666,
                            "#ed7953"
                          ],
                          [
                            0.7777777777777778,
                            "#fb9f3a"
                          ],
                          [
                            0.8888888888888888,
                            "#fdca26"
                          ],
                          [
                            1,
                            "#f0f921"
                          ]
                        ],
                        "type": "histogram2dcontour"
                      }
                    ],
                    "mesh3d": [
                      {
                        "colorbar": {
                          "outlinewidth": 0,
                          "ticks": ""
                        },
                        "type": "mesh3d"
                      }
                    ],
                    "parcoords": [
                      {
                        "line": {
                          "colorbar": {
                            "outlinewidth": 0,
                            "ticks": ""
                          }
                        },
                        "type": "parcoords"
                      }
                    ],
                    "pie": [
                      {
                        "automargin": true,
                        "type": "pie"
                      }
                    ],
                    "scatter": [
                      {
                        "fillpattern": {
                          "fillmode": "overlay",
                          "size": 10,
                          "solidity": 0.2
                        },
                        "type": "scatter"
                      }
                    ],
                    "scatter3d": [
                      {
                        "line": {
                          "colorbar": {
                            "outlinewidth": 0,
                            "ticks": ""
                          }
                        },
                        "marker": {
                          "colorbar": {
                            "outlinewidth": 0,
                            "ticks": ""
                          }
                        },
                        "type": "scatter3d"
                      }
                    ],
                    "scattercarpet": [
                      {
                        "marker": {
                          "colorbar": {
                            "outlinewidth": 0,
                            "ticks": ""
                          }
                        },
                        "type": "scattercarpet"
                      }
                    ],
                    "scattergeo": [
                      {
                        "marker": {
                          "colorbar": {
                            "outlinewidth": 0,
                            "ticks": ""
                          }
                        },
                        "type": "scattergeo"
                      }
                    ],
                    "scattergl": [
                      {
                        "marker": {
                          "colorbar": {
                            "outlinewidth": 0,
                            "ticks": ""
                          }
                        },
                        "type": "scattergl"
                      }
                    ],
                    "scattermap": [
                      {
                        "marker": {
                          "colorbar": {
                            "outlinewidth": 0,
                            "ticks": ""
                          }
                        },
                        "type": "scattermap"
                      }
                    ],
                    "scattermapbox": [
                      {
                        "marker": {
                          "colorbar": {
                            "outlinewidth": 0,
                            "ticks": ""
                          }
                        },
                        "type": "scattermapbox"
                      }
                    ],
                    "scatterpolar": [
                      {
                        "marker": {
                          "colorbar": {
                            "outlinewidth": 0,
                            "ticks": ""
                          }
                        },
                        "type": "scatterpolar"
                      }
                    ],
                    "scatterpolargl": [
                      {
                        "marker": {
                          "colorbar": {
                            "outlinewidth": 0,
                            "ticks": ""
                          }
                        },
                        "type": "scatterpolargl"
                      }
                    ],
                    "scatterternary": [
                      {
                        "marker": {
                          "colorbar": {
                            "outlinewidth": 0,
                            "ticks": ""
                          }
                        },
                        "type": "scatterternary"
                      }
                    ],
                    "surface": [
                      {
                        "colorbar": {
                          "outlinewidth": 0,
                          "ticks": ""
                        },
                        "colorscale": [
                          [
                            0,
                            "#0d0887"
                          ],
                          [
                            0.1111111111111111,
                            "#46039f"
                          ],
                          [
                            0.2222222222222222,
                            "#7201a8"
                          ],
                          [
                            0.3333333333333333,
                            "#9c179e"
                          ],
                          [
                            0.4444444444444444,
                            "#bd3786"
                          ],
                          [
                            0.5555555555555556,
                            "#d8576b"
                          ],
                          [
                            0.6666666666666666,
                            "#ed7953"
                          ],
                          [
                            0.7777777777777778,
                            "#fb9f3a"
                          ],
                          [
                            0.8888888888888888,
                            "#fdca26"
                          ],
                          [
                            1,
                            "#f0f921"
                          ]
                        ],
                        "type": "surface"
                      }
                    ],
                    "table": [
                      {
                        "cells": {
                          "fill": {
                            "color": "#EBF0F8"
                          },
                          "line": {
                            "color": "white"
                          }
                        },
                        "header": {
                          "fill": {
                            "color": "#C8D4E3"
                          },
                          "line": {
                            "color": "white"
                          }
                        },
                        "type": "table"
                      }
                    ]
                  },
                  "layout": {
                    "annotationdefaults": {
                      "arrowcolor": "#2a3f5f",
                      "arrowhead": 0,
                      "arrowwidth": 1
                    },
                    "autotypenumbers": "strict",
                    "coloraxis": {
                      "colorbar": {
                        "outlinewidth": 0,
                        "ticks": ""
                      }
                    },
                    "colorscale": {
                      "diverging": [
                        [
                          0,
                          "#8e0152"
                        ],
                        [
                          0.1,
                          "#c51b7d"
                        ],
                        [
                          0.2,
                          "#de77ae"
                        ],
                        [
                          0.3,
                          "#f1b6da"
                        ],
                        [
                          0.4,
                          "#fde0ef"
                        ],
                        [
                          0.5,
                          "#f7f7f7"
                        ],
                        [
                          0.6,
                          "#e6f5d0"
                        ],
                        [
                          0.7,
                          "#b8e186"
                        ],
                        [
                          0.8,
                          "#7fbc41"
                        ],
                        [
                          0.9,
                          "#4d9221"
                        ],
                        [
                          1,
                          "#276419"
                        ]
                      ],
                      "sequential": [
                        [
                          0,
                          "#0d0887"
                        ],
                        [
                          0.1111111111111111,
                          "#46039f"
                        ],
                        [
                          0.2222222222222222,
                          "#7201a8"
                        ],
                        [
                          0.3333333333333333,
                          "#9c179e"
                        ],
                        [
                          0.4444444444444444,
                          "#bd3786"
                        ],
                        [
                          0.5555555555555556,
                          "#d8576b"
                        ],
                        [
                          0.6666666666666666,
                          "#ed7953"
                        ],
                        [
                          0.7777777777777778,
                          "#fb9f3a"
                        ],
                        [
                          0.8888888888888888,
                          "#fdca26"
                        ],
                        [
                          1,
                          "#f0f921"
                        ]
                      ],
                      "sequentialminus": [
                        [
                          0,
                          "#0d0887"
                        ],
                        [
                          0.1111111111111111,
                          "#46039f"
                        ],
                        [
                          0.2222222222222222,
                          "#7201a8"
                        ],
                        [
                          0.3333333333333333,
                          "#9c179e"
                        ],
                        [
                          0.4444444444444444,
                          "#bd3786"
                        ],
                        [
                          0.5555555555555556,
                          "#d8576b"
                        ],
                        [
                          0.6666666666666666,
                          "#ed7953"
                        ],
                        [
                          0.7777777777777778,
                          "#fb9f3a"
                        ],
                        [
                          0.8888888888888888,
                          "#fdca26"
                        ],
                        [
                          1,
                          "#f0f921"
                        ]
                      ]
                    },
                    "colorway": [
                      "#636efa",
                      "#EF553B",
                      "#00cc96",
                      "#ab63fa",
                      "#FFA15A",
                      "#19d3f3",
                      "#FF6692",
                      "#B6E880",
                      "#FF97FF",
                      "#FECB52"
                    ],
                    "font": {
                      "color": "#2a3f5f"
                    },
                    "geo": {
                      "bgcolor": "white",
                      "lakecolor": "white",
                      "landcolor": "#E5ECF6",
                      "showlakes": true,
                      "showland": true,
                      "subunitcolor": "white"
                    },
                    "hoverlabel": {
                      "align": "left"
                    },
                    "hovermode": "closest",
                    "mapbox": {
                      "style": "light"
                    },
                    "paper_bgcolor": "white",
                    "plot_bgcolor": "#E5ECF6",
                    "polar": {
                      "angularaxis": {
                        "gridcolor": "white",
                        "linecolor": "white",
                        "ticks": ""
                      },
                      "bgcolor": "#E5ECF6",
                      "radialaxis": {
                        "gridcolor": "white",
                        "linecolor": "white",
                        "ticks": ""
                      }
                    },
                    "scene": {
                      "xaxis": {
                        "backgroundcolor": "#E5ECF6",
                        "gridcolor": "white",
                        "gridwidth": 2,
                        "linecolor": "white",
                        "showbackground": true,
                        "ticks": "",
                        "zerolinecolor": "white"
                      },
                      "yaxis": {
                        "backgroundcolor": "#E5ECF6",
                        "gridcolor": "white",
                        "gridwidth": 2,
                        "linecolor": "white",
                        "showbackground": true,
                        "ticks": "",
                        "zerolinecolor": "white"
                      },
                      "zaxis": {
                        "backgroundcolor": "#E5ECF6",
                        "gridcolor": "white",
                        "gridwidth": 2,
                        "linecolor": "white",
                        "showbackground": true,
                        "ticks": "",
                        "zerolinecolor": "white"
                      }
                    },
                    "shapedefaults": {
                      "line": {
                        "color": "#2a3f5f"
                      }
                    },
                    "ternary": {
                      "aaxis": {
                        "gridcolor": "white",
                        "linecolor": "white",
                        "ticks": ""
                      },
                      "baxis": {
                        "gridcolor": "white",
                        "linecolor": "white",
                        "ticks": ""
                      },
                      "bgcolor": "#E5ECF6",
                      "caxis": {
                        "gridcolor": "white",
                        "linecolor": "white",
                        "ticks": ""
                      }
                    },
                    "title": {
                      "x": 0.05
                    },
                    "xaxis": {
                      "automargin": true,
                      "gridcolor": "white",
                      "linecolor": "white",
                      "ticks": "",
                      "title": {
                        "standoff": 15
                      },
                      "zerolinecolor": "white",
                      "zerolinewidth": 2
                    },
                    "yaxis": {
                      "automargin": true,
                      "gridcolor": "white",
                      "linecolor": "white",
                      "ticks": "",
                      "title": {
                        "standoff": 15
                      },
                      "zerolinecolor": "white",
                      "zerolinewidth": 2
                    }
                  }
                },
                "title": {
                  "text": "Столбчатая диаграмма по медианной нижней планке ЗП в зависимости от формата работы"
                },
                "xaxis": {
                  "anchor": "y",
                  "domain": [
                    0,
                    1
                  ],
                  "title": {
                    "text": "schedule"
                  }
                },
                "yaxis": {
                  "anchor": "x",
                  "domain": [
                    0,
                    1
                  ],
                  "title": {
                    "text": "value"
                  }
                }
              }
            }
          },
          "metadata": {},
          "output_type": "display_data"
        }
      ],
      "source": [
        "df_count_regions_2 = df_0_1.groupby(by='schedule')[['salary_from', 'salary_to']].agg(\n",
        "    'median').sort_values(by='salary_from', ascending=False)\n",
        "bar = px.bar(data_frame=df_count_regions_2, x=df_count_regions_2.index, y=['salary_from', 'salary_to'],\n",
        "             barmode='group',\n",
        "             title='Столбчатая диаграмма по медианной нижней планке ЗП в зависимости от формата работы',\n",
        "             labels={'x': 'Регион', 'y': 'Медианная ЗП (нижняя планка)'}\n",
        "             )\n",
        "bar.show()"
      ]
    },
    {
      "cell_type": "markdown",
      "id": "97efddc6",
      "metadata": {},
      "source": [
        "На диаграмме распределения медианной ЗП в зависимости от формата работы видно, что медианная ЗП при гибком графике и удаленной работе выше, чем при классическом формате работы. Но такой неожиданный на первый взгляд вывод можно объяснить тем, что удаленно и в удобном графике работают высокооплачиваемые специалисты (IT, менеджеры и дт.), а полный рабочий день у большинства профессии, включая низкооплачиваемые. Также на графике видно, что при сменном графике не только наименьший уровень ЗП, но и минимальная разница между нижней и верхней планкой дохода. Вероятно, в таких профессиях нет метрик оценки эффективности сотрудников и инструментов мотивации."
      ]
    },
    {
      "cell_type": "code",
      "execution_count": 252,
      "id": "d6305b76",
      "metadata": {},
      "outputs": [
        {
          "data": {
            "application/vnd.plotly.v1+json": {
              "config": {
                "plotlyServerURL": "https://plot.ly"
              },
              "data": [
                {
                  "alignmentgroup": "True",
                  "hovertemplate": "variable=salary_from<br>experience=%{x}<br>value=%{y}<extra></extra>",
                  "legendgroup": "salary_from",
                  "marker": {
                    "color": "#636efa",
                    "pattern": {
                      "shape": ""
                    }
                  },
                  "name": "salary_from",
                  "offsetgroup": "salary_from",
                  "orientation": "v",
                  "showlegend": true,
                  "textposition": "auto",
                  "type": "bar",
                  "x": [
                    "Более 6 лет",
                    "От 3 до 6 лет",
                    "От 1 года до 3 лет",
                    "Нет опыта"
                  ],
                  "xaxis": "x",
                  "y": {
                    "bdata": "AAAAAABM/UAAAAAAAGr4QAAAAAAAauhAAAAAAABM3UA=",
                    "dtype": "f8"
                  },
                  "yaxis": "y"
                },
                {
                  "alignmentgroup": "True",
                  "hovertemplate": "variable=salary_to<br>experience=%{x}<br>value=%{y}<extra></extra>",
                  "legendgroup": "salary_to",
                  "marker": {
                    "color": "#EF553B",
                    "pattern": {
                      "shape": ""
                    }
                  },
                  "name": "salary_to",
                  "offsetgroup": "salary_to",
                  "orientation": "v",
                  "showlegend": true,
                  "textposition": "auto",
                  "type": "bar",
                  "x": [
                    "Более 6 лет",
                    "От 3 до 6 лет",
                    "От 1 года до 3 лет",
                    "Нет опыта"
                  ],
                  "xaxis": "x",
                  "y": {
                    "bdata": "AAAAAAD5BUEAAAAAgE8CQQAAAAAAiPNAAAAAAABq6EA=",
                    "dtype": "f8"
                  },
                  "yaxis": "y"
                }
              ],
              "layout": {
                "barmode": "group",
                "legend": {
                  "title": {
                    "text": "variable"
                  },
                  "tracegroupgap": 0
                },
                "template": {
                  "data": {
                    "bar": [
                      {
                        "error_x": {
                          "color": "#2a3f5f"
                        },
                        "error_y": {
                          "color": "#2a3f5f"
                        },
                        "marker": {
                          "line": {
                            "color": "#E5ECF6",
                            "width": 0.5
                          },
                          "pattern": {
                            "fillmode": "overlay",
                            "size": 10,
                            "solidity": 0.2
                          }
                        },
                        "type": "bar"
                      }
                    ],
                    "barpolar": [
                      {
                        "marker": {
                          "line": {
                            "color": "#E5ECF6",
                            "width": 0.5
                          },
                          "pattern": {
                            "fillmode": "overlay",
                            "size": 10,
                            "solidity": 0.2
                          }
                        },
                        "type": "barpolar"
                      }
                    ],
                    "carpet": [
                      {
                        "aaxis": {
                          "endlinecolor": "#2a3f5f",
                          "gridcolor": "white",
                          "linecolor": "white",
                          "minorgridcolor": "white",
                          "startlinecolor": "#2a3f5f"
                        },
                        "baxis": {
                          "endlinecolor": "#2a3f5f",
                          "gridcolor": "white",
                          "linecolor": "white",
                          "minorgridcolor": "white",
                          "startlinecolor": "#2a3f5f"
                        },
                        "type": "carpet"
                      }
                    ],
                    "choropleth": [
                      {
                        "colorbar": {
                          "outlinewidth": 0,
                          "ticks": ""
                        },
                        "type": "choropleth"
                      }
                    ],
                    "contour": [
                      {
                        "colorbar": {
                          "outlinewidth": 0,
                          "ticks": ""
                        },
                        "colorscale": [
                          [
                            0,
                            "#0d0887"
                          ],
                          [
                            0.1111111111111111,
                            "#46039f"
                          ],
                          [
                            0.2222222222222222,
                            "#7201a8"
                          ],
                          [
                            0.3333333333333333,
                            "#9c179e"
                          ],
                          [
                            0.4444444444444444,
                            "#bd3786"
                          ],
                          [
                            0.5555555555555556,
                            "#d8576b"
                          ],
                          [
                            0.6666666666666666,
                            "#ed7953"
                          ],
                          [
                            0.7777777777777778,
                            "#fb9f3a"
                          ],
                          [
                            0.8888888888888888,
                            "#fdca26"
                          ],
                          [
                            1,
                            "#f0f921"
                          ]
                        ],
                        "type": "contour"
                      }
                    ],
                    "contourcarpet": [
                      {
                        "colorbar": {
                          "outlinewidth": 0,
                          "ticks": ""
                        },
                        "type": "contourcarpet"
                      }
                    ],
                    "heatmap": [
                      {
                        "colorbar": {
                          "outlinewidth": 0,
                          "ticks": ""
                        },
                        "colorscale": [
                          [
                            0,
                            "#0d0887"
                          ],
                          [
                            0.1111111111111111,
                            "#46039f"
                          ],
                          [
                            0.2222222222222222,
                            "#7201a8"
                          ],
                          [
                            0.3333333333333333,
                            "#9c179e"
                          ],
                          [
                            0.4444444444444444,
                            "#bd3786"
                          ],
                          [
                            0.5555555555555556,
                            "#d8576b"
                          ],
                          [
                            0.6666666666666666,
                            "#ed7953"
                          ],
                          [
                            0.7777777777777778,
                            "#fb9f3a"
                          ],
                          [
                            0.8888888888888888,
                            "#fdca26"
                          ],
                          [
                            1,
                            "#f0f921"
                          ]
                        ],
                        "type": "heatmap"
                      }
                    ],
                    "histogram": [
                      {
                        "marker": {
                          "pattern": {
                            "fillmode": "overlay",
                            "size": 10,
                            "solidity": 0.2
                          }
                        },
                        "type": "histogram"
                      }
                    ],
                    "histogram2d": [
                      {
                        "colorbar": {
                          "outlinewidth": 0,
                          "ticks": ""
                        },
                        "colorscale": [
                          [
                            0,
                            "#0d0887"
                          ],
                          [
                            0.1111111111111111,
                            "#46039f"
                          ],
                          [
                            0.2222222222222222,
                            "#7201a8"
                          ],
                          [
                            0.3333333333333333,
                            "#9c179e"
                          ],
                          [
                            0.4444444444444444,
                            "#bd3786"
                          ],
                          [
                            0.5555555555555556,
                            "#d8576b"
                          ],
                          [
                            0.6666666666666666,
                            "#ed7953"
                          ],
                          [
                            0.7777777777777778,
                            "#fb9f3a"
                          ],
                          [
                            0.8888888888888888,
                            "#fdca26"
                          ],
                          [
                            1,
                            "#f0f921"
                          ]
                        ],
                        "type": "histogram2d"
                      }
                    ],
                    "histogram2dcontour": [
                      {
                        "colorbar": {
                          "outlinewidth": 0,
                          "ticks": ""
                        },
                        "colorscale": [
                          [
                            0,
                            "#0d0887"
                          ],
                          [
                            0.1111111111111111,
                            "#46039f"
                          ],
                          [
                            0.2222222222222222,
                            "#7201a8"
                          ],
                          [
                            0.3333333333333333,
                            "#9c179e"
                          ],
                          [
                            0.4444444444444444,
                            "#bd3786"
                          ],
                          [
                            0.5555555555555556,
                            "#d8576b"
                          ],
                          [
                            0.6666666666666666,
                            "#ed7953"
                          ],
                          [
                            0.7777777777777778,
                            "#fb9f3a"
                          ],
                          [
                            0.8888888888888888,
                            "#fdca26"
                          ],
                          [
                            1,
                            "#f0f921"
                          ]
                        ],
                        "type": "histogram2dcontour"
                      }
                    ],
                    "mesh3d": [
                      {
                        "colorbar": {
                          "outlinewidth": 0,
                          "ticks": ""
                        },
                        "type": "mesh3d"
                      }
                    ],
                    "parcoords": [
                      {
                        "line": {
                          "colorbar": {
                            "outlinewidth": 0,
                            "ticks": ""
                          }
                        },
                        "type": "parcoords"
                      }
                    ],
                    "pie": [
                      {
                        "automargin": true,
                        "type": "pie"
                      }
                    ],
                    "scatter": [
                      {
                        "fillpattern": {
                          "fillmode": "overlay",
                          "size": 10,
                          "solidity": 0.2
                        },
                        "type": "scatter"
                      }
                    ],
                    "scatter3d": [
                      {
                        "line": {
                          "colorbar": {
                            "outlinewidth": 0,
                            "ticks": ""
                          }
                        },
                        "marker": {
                          "colorbar": {
                            "outlinewidth": 0,
                            "ticks": ""
                          }
                        },
                        "type": "scatter3d"
                      }
                    ],
                    "scattercarpet": [
                      {
                        "marker": {
                          "colorbar": {
                            "outlinewidth": 0,
                            "ticks": ""
                          }
                        },
                        "type": "scattercarpet"
                      }
                    ],
                    "scattergeo": [
                      {
                        "marker": {
                          "colorbar": {
                            "outlinewidth": 0,
                            "ticks": ""
                          }
                        },
                        "type": "scattergeo"
                      }
                    ],
                    "scattergl": [
                      {
                        "marker": {
                          "colorbar": {
                            "outlinewidth": 0,
                            "ticks": ""
                          }
                        },
                        "type": "scattergl"
                      }
                    ],
                    "scattermap": [
                      {
                        "marker": {
                          "colorbar": {
                            "outlinewidth": 0,
                            "ticks": ""
                          }
                        },
                        "type": "scattermap"
                      }
                    ],
                    "scattermapbox": [
                      {
                        "marker": {
                          "colorbar": {
                            "outlinewidth": 0,
                            "ticks": ""
                          }
                        },
                        "type": "scattermapbox"
                      }
                    ],
                    "scatterpolar": [
                      {
                        "marker": {
                          "colorbar": {
                            "outlinewidth": 0,
                            "ticks": ""
                          }
                        },
                        "type": "scatterpolar"
                      }
                    ],
                    "scatterpolargl": [
                      {
                        "marker": {
                          "colorbar": {
                            "outlinewidth": 0,
                            "ticks": ""
                          }
                        },
                        "type": "scatterpolargl"
                      }
                    ],
                    "scatterternary": [
                      {
                        "marker": {
                          "colorbar": {
                            "outlinewidth": 0,
                            "ticks": ""
                          }
                        },
                        "type": "scatterternary"
                      }
                    ],
                    "surface": [
                      {
                        "colorbar": {
                          "outlinewidth": 0,
                          "ticks": ""
                        },
                        "colorscale": [
                          [
                            0,
                            "#0d0887"
                          ],
                          [
                            0.1111111111111111,
                            "#46039f"
                          ],
                          [
                            0.2222222222222222,
                            "#7201a8"
                          ],
                          [
                            0.3333333333333333,
                            "#9c179e"
                          ],
                          [
                            0.4444444444444444,
                            "#bd3786"
                          ],
                          [
                            0.5555555555555556,
                            "#d8576b"
                          ],
                          [
                            0.6666666666666666,
                            "#ed7953"
                          ],
                          [
                            0.7777777777777778,
                            "#fb9f3a"
                          ],
                          [
                            0.8888888888888888,
                            "#fdca26"
                          ],
                          [
                            1,
                            "#f0f921"
                          ]
                        ],
                        "type": "surface"
                      }
                    ],
                    "table": [
                      {
                        "cells": {
                          "fill": {
                            "color": "#EBF0F8"
                          },
                          "line": {
                            "color": "white"
                          }
                        },
                        "header": {
                          "fill": {
                            "color": "#C8D4E3"
                          },
                          "line": {
                            "color": "white"
                          }
                        },
                        "type": "table"
                      }
                    ]
                  },
                  "layout": {
                    "annotationdefaults": {
                      "arrowcolor": "#2a3f5f",
                      "arrowhead": 0,
                      "arrowwidth": 1
                    },
                    "autotypenumbers": "strict",
                    "coloraxis": {
                      "colorbar": {
                        "outlinewidth": 0,
                        "ticks": ""
                      }
                    },
                    "colorscale": {
                      "diverging": [
                        [
                          0,
                          "#8e0152"
                        ],
                        [
                          0.1,
                          "#c51b7d"
                        ],
                        [
                          0.2,
                          "#de77ae"
                        ],
                        [
                          0.3,
                          "#f1b6da"
                        ],
                        [
                          0.4,
                          "#fde0ef"
                        ],
                        [
                          0.5,
                          "#f7f7f7"
                        ],
                        [
                          0.6,
                          "#e6f5d0"
                        ],
                        [
                          0.7,
                          "#b8e186"
                        ],
                        [
                          0.8,
                          "#7fbc41"
                        ],
                        [
                          0.9,
                          "#4d9221"
                        ],
                        [
                          1,
                          "#276419"
                        ]
                      ],
                      "sequential": [
                        [
                          0,
                          "#0d0887"
                        ],
                        [
                          0.1111111111111111,
                          "#46039f"
                        ],
                        [
                          0.2222222222222222,
                          "#7201a8"
                        ],
                        [
                          0.3333333333333333,
                          "#9c179e"
                        ],
                        [
                          0.4444444444444444,
                          "#bd3786"
                        ],
                        [
                          0.5555555555555556,
                          "#d8576b"
                        ],
                        [
                          0.6666666666666666,
                          "#ed7953"
                        ],
                        [
                          0.7777777777777778,
                          "#fb9f3a"
                        ],
                        [
                          0.8888888888888888,
                          "#fdca26"
                        ],
                        [
                          1,
                          "#f0f921"
                        ]
                      ],
                      "sequentialminus": [
                        [
                          0,
                          "#0d0887"
                        ],
                        [
                          0.1111111111111111,
                          "#46039f"
                        ],
                        [
                          0.2222222222222222,
                          "#7201a8"
                        ],
                        [
                          0.3333333333333333,
                          "#9c179e"
                        ],
                        [
                          0.4444444444444444,
                          "#bd3786"
                        ],
                        [
                          0.5555555555555556,
                          "#d8576b"
                        ],
                        [
                          0.6666666666666666,
                          "#ed7953"
                        ],
                        [
                          0.7777777777777778,
                          "#fb9f3a"
                        ],
                        [
                          0.8888888888888888,
                          "#fdca26"
                        ],
                        [
                          1,
                          "#f0f921"
                        ]
                      ]
                    },
                    "colorway": [
                      "#636efa",
                      "#EF553B",
                      "#00cc96",
                      "#ab63fa",
                      "#FFA15A",
                      "#19d3f3",
                      "#FF6692",
                      "#B6E880",
                      "#FF97FF",
                      "#FECB52"
                    ],
                    "font": {
                      "color": "#2a3f5f"
                    },
                    "geo": {
                      "bgcolor": "white",
                      "lakecolor": "white",
                      "landcolor": "#E5ECF6",
                      "showlakes": true,
                      "showland": true,
                      "subunitcolor": "white"
                    },
                    "hoverlabel": {
                      "align": "left"
                    },
                    "hovermode": "closest",
                    "mapbox": {
                      "style": "light"
                    },
                    "paper_bgcolor": "white",
                    "plot_bgcolor": "#E5ECF6",
                    "polar": {
                      "angularaxis": {
                        "gridcolor": "white",
                        "linecolor": "white",
                        "ticks": ""
                      },
                      "bgcolor": "#E5ECF6",
                      "radialaxis": {
                        "gridcolor": "white",
                        "linecolor": "white",
                        "ticks": ""
                      }
                    },
                    "scene": {
                      "xaxis": {
                        "backgroundcolor": "#E5ECF6",
                        "gridcolor": "white",
                        "gridwidth": 2,
                        "linecolor": "white",
                        "showbackground": true,
                        "ticks": "",
                        "zerolinecolor": "white"
                      },
                      "yaxis": {
                        "backgroundcolor": "#E5ECF6",
                        "gridcolor": "white",
                        "gridwidth": 2,
                        "linecolor": "white",
                        "showbackground": true,
                        "ticks": "",
                        "zerolinecolor": "white"
                      },
                      "zaxis": {
                        "backgroundcolor": "#E5ECF6",
                        "gridcolor": "white",
                        "gridwidth": 2,
                        "linecolor": "white",
                        "showbackground": true,
                        "ticks": "",
                        "zerolinecolor": "white"
                      }
                    },
                    "shapedefaults": {
                      "line": {
                        "color": "#2a3f5f"
                      }
                    },
                    "ternary": {
                      "aaxis": {
                        "gridcolor": "white",
                        "linecolor": "white",
                        "ticks": ""
                      },
                      "baxis": {
                        "gridcolor": "white",
                        "linecolor": "white",
                        "ticks": ""
                      },
                      "bgcolor": "#E5ECF6",
                      "caxis": {
                        "gridcolor": "white",
                        "linecolor": "white",
                        "ticks": ""
                      }
                    },
                    "title": {
                      "x": 0.05
                    },
                    "xaxis": {
                      "automargin": true,
                      "gridcolor": "white",
                      "linecolor": "white",
                      "ticks": "",
                      "title": {
                        "standoff": 15
                      },
                      "zerolinecolor": "white",
                      "zerolinewidth": 2
                    },
                    "yaxis": {
                      "automargin": true,
                      "gridcolor": "white",
                      "linecolor": "white",
                      "ticks": "",
                      "title": {
                        "standoff": 15
                      },
                      "zerolinecolor": "white",
                      "zerolinewidth": 2
                    }
                  }
                },
                "title": {
                  "text": "Столбчатая диаграмма по медианной нижней планке ЗП в зависимости от опыта работы"
                },
                "xaxis": {
                  "anchor": "y",
                  "domain": [
                    0,
                    1
                  ],
                  "title": {
                    "text": "experience"
                  }
                },
                "yaxis": {
                  "anchor": "x",
                  "domain": [
                    0,
                    1
                  ],
                  "title": {
                    "text": "value"
                  }
                }
              }
            }
          },
          "metadata": {},
          "output_type": "display_data"
        }
      ],
      "source": [
        "df_count_regions = df_0_1.groupby(by='experience')[['salary_from', 'salary_to']].agg(\n",
        "    'median').sort_values(by='salary_from', ascending=False)\n",
        "bar = px.bar(data_frame=df_count_regions, x=df_count_regions.index, y=['salary_from', 'salary_to'],\n",
        "             barmode='group',\n",
        "             title='Столбчатая диаграмма по медианной нижней планке ЗП в зависимости от опыта работы',\n",
        "             labels={'x': 'Регион', 'y': 'Медианная ЗП (нижняя планка)'}\n",
        "             )\n",
        "bar.show()"
      ]
    },
    {
      "cell_type": "markdown",
      "id": "54bed34d",
      "metadata": {},
      "source": [
        "На диаграмме распределения медианной ЗП в зависимости от опыта работы видно, что с ростом опыта растет и предлагаемая ЗП. Причем наиболее резкий рост при достижении опыта более 3 лет, при дальнейшем увеличении опыта рост ЗП уже менее интенсивнвй."
      ]
    },
    {
      "cell_type": "markdown",
      "id": "h9B3BL-wwj18",
      "metadata": {
        "id": "h9B3BL-wwj18"
      },
      "source": [
        "Общий вывод - наибольшее количесво вакансий и наивысший доход в Москве и других круппных городах. За первые три года работы происходит значительный рост ЗП. Рассчитывать на высокий уровень дохода можно и при удаленной работе или гибком графике."
      ]
    },
    {
      "cell_type": "markdown",
      "id": "80218342",
      "metadata": {},
      "source": []
    },
    {
      "cell_type": "code",
      "execution_count": 253,
      "id": "afff40f9",
      "metadata": {},
      "outputs": [],
      "source": [
        "# в конце работы не забываем закрыть соединение\n",
        "connection.close()"
      ]
    }
  ],
  "metadata": {
    "colab": {
      "collapsed_sections": [
        "8d62a9f3-f64e-4fe7-bdac-c4dffa16155e"
      ],
      "provenance": []
    },
    "kernelspec": {
      "display_name": "Python 3",
      "language": "python",
      "name": "python3"
    },
    "language_info": {
      "codemirror_mode": {
        "name": "ipython",
        "version": 3
      },
      "file_extension": ".py",
      "mimetype": "text/x-python",
      "name": "python",
      "nbconvert_exporter": "python",
      "pygments_lexer": "ipython3",
      "version": "3.10.5"
    }
  },
  "nbformat": 4,
  "nbformat_minor": 5
}
